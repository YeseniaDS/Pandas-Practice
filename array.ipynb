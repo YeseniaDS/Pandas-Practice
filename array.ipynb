{
 "cells": [
  {
   "attachments": {},
   "cell_type": "markdown",
   "metadata": {},
   "source": [
    "## 1. Two Sums"
   ]
  },
  {
   "cell_type": "code",
   "execution_count": 6,
   "metadata": {
    "tags": []
   },
   "outputs": [
    {
     "name": "stdout",
     "output_type": "stream",
     "text": [
      "[1, 3]\n",
      "[0, 4]\n"
     ]
    }
   ],
   "source": [
    "nums = [2, 3, 7, 9, 10]\n",
    "target = 12\n",
    "\n",
    "# define a dictionary to store the value (key) and index (value)\n",
    "dic = {}\n",
    "for i, val_1 in enumerate(nums):\n",
    "    val_2 = target - val_1\n",
    "    if val_2 not in dic:\n",
    "        dic[val_1] = i\n",
    "    else:\n",
    "        print([dic[val_2],i])\n"
   ]
  },
  {
   "cell_type": "code",
   "execution_count": 26,
   "metadata": {
    "tags": []
   },
   "outputs": [
    {
     "name": "stdout",
     "output_type": "stream",
     "text": [
      "[1, 3]\n",
      "[0, 4]\n"
     ]
    }
   ],
   "source": [
    "class Solution:\n",
    "    def TwoSum(self, nums, target):\n",
    "        \"\"\"\n",
    "        type nums: list[int]\n",
    "        type target: int\n",
    "        rtype: list[int]\n",
    "        \n",
    "        \"\"\"\n",
    "        # define a dictionary to store keys\n",
    "        h = {}\n",
    "        for i, j in enumerate(nums):\n",
    "            n = target - j\n",
    "            if n not in h:\n",
    "                h[j] = i\n",
    "            else:\n",
    "                print([h[n], i])\n",
    "\n",
    "nums = [2,3,7,9,10]\n",
    "target = 12\n",
    "index = Solution.TwoSum(self=None,nums=nums,target=target)"
   ]
  },
  {
   "attachments": {},
   "cell_type": "markdown",
   "metadata": {},
   "source": [
    "## 2. Add Two Numbers\n",
    "\n",
    "You are given two non-empty linked lists representing two non-negative integers. The digits are stored in reverse order, and each of their nodes contains a single digit. Add the two numbers and return the sum as a linked list.\n",
    "\n",
    "You may assume the two numbers do not contain any leading zero, except the number 0 itself."
   ]
  },
  {
   "cell_type": "code",
   "execution_count": 14,
   "metadata": {},
   "outputs": [],
   "source": [
    "class Solution:\n",
    "    def addTwoNumbers(self, l1, l2):\n",
    "        \"\"\"\n",
    "        :type l1: ListNode\n",
    "        :type l2: ListNode\n",
    "        :rtype: ListNode\n",
    "        \"\"\"\n",
    "        sum1, sum2 = 0, 0\n",
    "        for i, j in enumerate(l1):\n",
    "            sum1 += j * 10**i\n",
    "        for i, j in enumerate(l2):\n",
    "            sum2 += j * 10**i\n",
    "        \n",
    "        total_sum = sum1 + sum2\n",
    "        return([int(d) for d in str(total_sum)][::-1])"
   ]
  },
  {
   "cell_type": "code",
   "execution_count": 15,
   "metadata": {},
   "outputs": [
    {
     "data": {
      "text/plain": [
       "[6, 4, 4, 1]"
      ]
     },
     "execution_count": 15,
     "metadata": {},
     "output_type": "execute_result"
    }
   ],
   "source": [
    "l1 = [2, 3, 5]\n",
    "l2 = [4, 1, 9]\n",
    "Solution.addTwoNumbers(self=None,l1=l1,l2=l2)"
   ]
  },
  {
   "attachments": {},
   "cell_type": "markdown",
   "metadata": {},
   "source": [
    "## 3. Longest common prefix using sorting"
   ]
  },
  {
   "cell_type": "code",
   "execution_count": 25,
   "metadata": {},
   "outputs": [
    {
     "data": {
      "text/plain": [
       "'gee'"
      ]
     },
     "execution_count": 25,
     "metadata": {},
     "output_type": "execute_result"
    }
   ],
   "source": [
    "test_list = ['geeksforgeeks', 'geeks', 'geezer', 'geekand']\n",
    "\n",
    "def CommonPrefix(str1, str2):\n",
    "    n1 = len(str1)\n",
    "    n2 = len(str2)\n",
    "\n",
    "    i = j = 0\n",
    "    res = ''\n",
    "    while i < n1 and j < n2:\n",
    "        if str1[i] != str2[i]:\n",
    "            break\n",
    "        else:\n",
    "            res += str1[i]\n",
    "            i += 1\n",
    "            j += 1    \n",
    "    return res\n",
    "\n",
    "def LongestCommonPrefix(strs):\n",
    "    prefix = strs[0]\n",
    "    for i in range(1, len(strs)):\n",
    "        prefix = CommonPrefix(prefix, strs[i])\n",
    "    return prefix\n",
    "\n",
    "LongestCommonPrefix(test_list)"
   ]
  },
  {
   "attachments": {},
   "cell_type": "markdown",
   "metadata": {},
   "source": [
    "## 4. Single Number\n",
    "\n",
    "Given a non-empty array of integers nums, every element appears twice except for one. Find that single one."
   ]
  },
  {
   "cell_type": "code",
   "execution_count": 44,
   "metadata": {},
   "outputs": [
    {
     "data": {
      "text/plain": [
       "1"
      ]
     },
     "execution_count": 44,
     "metadata": {},
     "output_type": "execute_result"
    }
   ],
   "source": [
    "def singleNumber(nums):\n",
    "    dict = {}\n",
    "    for ele in nums:\n",
    "        if ele not in dict:\n",
    "            dict[ele] = True\n",
    "        else:\n",
    "            dict[ele] = False\n",
    "    for key, val in dict.items():\n",
    "        if val == True:\n",
    "            return key\n",
    "\n",
    "singleNumber([1, 1,2, 3,3])"
   ]
  },
  {
   "attachments": {},
   "cell_type": "markdown",
   "metadata": {},
   "source": [
    "## 5. Search Insert Position\n",
    "\n",
    "Given a sorted array of distinct integers and a target value, return the index if the target is found. If not, return the index where it would be if it were inserted in order.\n",
    "\n",
    "You must write an algorithm with O(log n) runtime complexity."
   ]
  },
  {
   "cell_type": "code",
   "execution_count": 54,
   "metadata": {},
   "outputs": [
    {
     "data": {
      "text/plain": [
       "3"
      ]
     },
     "execution_count": 54,
     "metadata": {},
     "output_type": "execute_result"
    }
   ],
   "source": [
    "def SearchInsert(nums, target):\n",
    "    left = 0\n",
    "    right = len(nums) - 1\n",
    "\n",
    "    while left < right:\n",
    "        mid = (left + right)//2\n",
    "        if nums[mid] == target:\n",
    "            return mid\n",
    "        elif nums[mid] < target:\n",
    "            left += 1\n",
    "        else:\n",
    "            right -= 1\n",
    "    return left\n",
    "\n",
    "SearchInsert([1, 2, 3, 5], 4)"
   ]
  },
  {
   "attachments": {},
   "cell_type": "markdown",
   "metadata": {},
   "source": [
    "## 6. Smallest Poitive Missing Number"
   ]
  },
  {
   "cell_type": "code",
   "execution_count": 58,
   "metadata": {},
   "outputs": [
    {
     "data": {
      "text/plain": [
       "1"
      ]
     },
     "execution_count": 58,
     "metadata": {},
     "output_type": "execute_result"
    }
   ],
   "source": [
    "def SmallestMissingPositiveNumber(arr):\n",
    "    n = len(arr)\n",
    "    my_dict = {}\n",
    "\n",
    "    for i in range(n):\n",
    "        if arr[i] > 0:\n",
    "            if arr[i] not in my_dict:\n",
    "                my_dict[arr[i]] = 0\n",
    "            else:\n",
    "                my_dict[arr[i]] += 1 # count of occurence\n",
    "    \n",
    "    idx = 1\n",
    "    if idx not in my_dict.values():\n",
    "        return idx\n",
    "    else:\n",
    "        idx += 1\n",
    "\n",
    "SmallestMissingPositiveNumber([-1, 0, 2, 3, 4])"
   ]
  },
  {
   "attachments": {},
   "cell_type": "markdown",
   "metadata": {},
   "source": [
    "## 7. Smallest Number Greater Than \"N\" With Same Digit Sum As \"N\""
   ]
  },
  {
   "cell_type": "code",
   "execution_count": 13,
   "metadata": {},
   "outputs": [
    {
     "name": "stdout",
     "output_type": "stream",
     "text": [
      "20019\n"
     ]
    }
   ],
   "source": [
    "def solution(N):\n",
    "\n",
    "    M = str(N)\n",
    "    t = len(M) - 1\n",
    "\n",
    "    trailing_zero = list()\n",
    "    first_nine = list()\n",
    "\n",
    "    while t >= 0:\n",
    "        if int(M[t]) != 0:\n",
    "            break\n",
    "        trailing_zero.append(M[t])\n",
    "        t -= 1\n",
    "    \n",
    "    if t < 0:\n",
    "        print('No Solution')\n",
    "        return\n",
    "    \n",
    "    first_not_zero = int(M[t])\n",
    "    t -= 1\n",
    "    while t >= 0:\n",
    "        if int(M[t]) != 9:\n",
    "            break\n",
    "        first_nine.append(M[t])\n",
    "        t -= 1\n",
    "\n",
    "    if t < 0:\n",
    "        rm = '1'\n",
    "    else:\n",
    "        add_digit = int(M[t]) + 1\n",
    "        rm = ''.join(M[:t]) + str(add_digit)\n",
    "\n",
    "    print(int(rm + ''.join(trailing_zero) + str(first_not_zero - 1) + ''.join(first_nine)))\n",
    "    \n",
    "solution(19200) "
   ]
  },
  {
   "attachments": {},
   "cell_type": "markdown",
   "metadata": {},
   "source": [
    "## 8. Augmented Euclidean Distance"
   ]
  },
  {
   "cell_type": "code",
   "execution_count": 191,
   "metadata": {},
   "outputs": [
    {
     "data": {
      "text/plain": [
       "1.4142135623730951"
      ]
     },
     "execution_count": 191,
     "metadata": {},
     "output_type": "execute_result"
    }
   ],
   "source": [
    "import numpy as np\n",
    "\n",
    "def augmented_euclidean_dist(a, b):\n",
    "    # Write your code here.\n",
    "    # Remember to return the right object.\n",
    "    idx_drop = []\n",
    "    for i, ele in enumerate(a):\n",
    "        if ele == -999:\n",
    "            idx_drop.append(i)\n",
    "    for j, ele in enumerate(b):\n",
    "        if ele == -999:\n",
    "            idx_drop.append(j)\n",
    "    \n",
    "    idx_drop = sorted(set(idx_drop))\n",
    "\n",
    "    new_a = []\n",
    "    new_b = []\n",
    "    for i, ele in enumerate(a):\n",
    "        if i not in idx_drop:\n",
    "            new_a.append(ele)\n",
    "    for j, ele in enumerate(b):\n",
    "        if j not in idx_drop:\n",
    "            new_b.append(ele)\n",
    "    \n",
    "    if len(new_a) <= 1 or len(new_b) <= 1:\n",
    "        print(float('inf'))\n",
    "        return\n",
    "    else:\n",
    "        dist = np.linalg.norm(np.array(new_a) - np.array(new_b))\n",
    "        return dist\n",
    "a = np.array([1, 2, 3.5, 4.24])\n",
    "b = np.array([2, 1, -999, -999])\n",
    "augmented_euclidean_dist(a, b)"
   ]
  },
  {
   "attachments": {},
   "cell_type": "markdown",
   "metadata": {},
   "source": [
    "## 9. Pascal Triangle"
   ]
  },
  {
   "cell_type": "code",
   "execution_count": 211,
   "metadata": {},
   "outputs": [
    {
     "data": {
      "text/plain": [
       "[[1],\n",
       " [1, 1],\n",
       " [1, 2, 1],\n",
       " [1, 3, 3, 1],\n",
       " [1, 4, 6, 4, 1],\n",
       " [1, 5, 10, 10, 5, 1],\n",
       " [1, 6, 15, 20, 15, 6, 1],\n",
       " [1, 7, 21, 35, 35, 21, 7, 1],\n",
       " [1, 8, 28, 56, 70, 56, 28, 8, 1],\n",
       " [1, 9, 36, 84, 126, 126, 84, 36, 9, 1]]"
      ]
     },
     "execution_count": 211,
     "metadata": {},
     "output_type": "execute_result"
    }
   ],
   "source": [
    "def pascal(numRows):\n",
    "    triangles = []\n",
    "    for i in range(numRows):\n",
    "        triangles.append([])\n",
    "        for j in range(i + 1):\n",
    "            if j == 0 or j == i:\n",
    "                triangles[i].append(1)\n",
    "            else:\n",
    "                triangles[i].append(triangles[i - 1][j - 1] + triangles[i - 1][j])\n",
    "    return triangles\n",
    "\n",
    "pascal(10)"
   ]
  },
  {
   "attachments": {},
   "cell_type": "markdown",
   "metadata": {},
   "source": [
    "## 10. Reverse Vowels of a String"
   ]
  },
  {
   "cell_type": "code",
   "execution_count": 90,
   "metadata": {},
   "outputs": [
    {
     "data": {
      "text/plain": [
       "'holloworldpythen'"
      ]
     },
     "execution_count": 90,
     "metadata": {},
     "output_type": "execute_result"
    }
   ],
   "source": [
    "def reverseVowels(s):\n",
    "    vw = 'aeiouAEIOU'\n",
    "    i, j = 0, len(s)-1\n",
    "    s = list(s)\n",
    "    while i < j:\n",
    "        if s[i] not in vw:\n",
    "            i += 1\n",
    "            continue\n",
    "        if s[j] not in vw:\n",
    "            j -= 1\n",
    "            continue\n",
    "        s[i], s[j] = s[j], s[i]\n",
    "        i += 1\n",
    "        j -= 1\n",
    "        \n",
    "    return ''.join(s)\n",
    "reverseVowels('helloworldpython')"
   ]
  },
  {
   "attachments": {},
   "cell_type": "markdown",
   "metadata": {},
   "source": [
    "## 11. Strobogrammatic Number"
   ]
  },
  {
   "cell_type": "code",
   "execution_count": 112,
   "metadata": {},
   "outputs": [
    {
     "data": {
      "text/plain": [
       "True"
      ]
     },
     "execution_count": 112,
     "metadata": {},
     "output_type": "execute_result"
    }
   ],
   "source": [
    "def Strobogrammatic(num):\n",
    "    dic = {'0': '0', '1': '1', '6': '9', '8': '8', '9': '6'}\n",
    "    l, r = 0, len(num) - 1\n",
    "\n",
    "    while l <= r:\n",
    "        if num[l] in dic and dic[num[l]] == num[r]:\n",
    "            l += 1\n",
    "            r -= 1\n",
    "        else:\n",
    "            return False\n",
    "    return True\n",
    "Strobogrammatic('9966') \n",
    "# 8008 1001 9006 6009 8888 1881 9886 6889 8118 1111 9116 6119 8968 1961 9966 6969 8698 1691 9696 6699"
   ]
  },
  {
   "attachments": {},
   "cell_type": "markdown",
   "metadata": {},
   "source": [
    "## 12. Shortest Word Distance\n",
    "Given an array of strings wordsDict and two different strings that already exist in the array word1 and word2, return the shortest distance between these two words in the list.\n",
    "\n",
    "__Input__: wordsDict = [\"practice\", \"makes\", \"perfect\", \"coding\", \"makes\"], word1 = \"makes\", word2 = \"coding\"\n",
    "\n",
    "__Output__: 1"
   ]
  },
  {
   "cell_type": "code",
   "execution_count": 117,
   "metadata": {},
   "outputs": [
    {
     "data": {
      "text/plain": [
       "3"
      ]
     },
     "execution_count": 117,
     "metadata": {},
     "output_type": "execute_result"
    }
   ],
   "source": [
    "def shortestDistance(wordsDict, word1, word2):\n",
    "    min_dist = sys.maxsize\n",
    "    word1_idx = []\n",
    "    word2_idx = []\n",
    "\n",
    "    for i, word in enumerate(wordsDict):\n",
    "        if word == word1:\n",
    "            word1_idx.append(i)\n",
    "        if word == word2:\n",
    "            word2_idx.append(i)\n",
    "    \n",
    "    for i in word1_idx:\n",
    "        for j in word2_idx:\n",
    "            min_dist = min(min_dist, abs(i-j))\n",
    "    \n",
    "    return min_dist\n",
    "shortestDistance(wordsDict = [\"practice\", \"makes\", \"perfect\", \"coding\", \"makes\"], word1 = \"practice\", word2 = \"coding\")"
   ]
  },
  {
   "attachments": {},
   "cell_type": "markdown",
   "metadata": {},
   "source": [
    "## 13. Sum of All Subtrings"
   ]
  },
  {
   "cell_type": "code",
   "execution_count": 9,
   "metadata": {},
   "outputs": [
    {
     "data": {
      "text/plain": [
       "16755"
      ]
     },
     "execution_count": 9,
     "metadata": {},
     "output_type": "execute_result"
    }
   ],
   "source": [
    "def sumOfSubstrings(num):\n",
    "    curr = 0\n",
    "    prev = int(num[0])\n",
    "    sum_subString = prev\n",
    "\n",
    "    for i in range(1, len(num)):\n",
    "        curr = (i + 1) * int(num[i]) + 10 * prev\n",
    "        sum_subString += curr\n",
    "        prev = curr\n",
    "    return sum_subString\n",
    "sumOfSubstrings('12345')"
   ]
  },
  {
   "attachments": {},
   "cell_type": "markdown",
   "metadata": {},
   "source": [
    "## 14. Count number of bits to be flipped to convert A to B\n",
    "\n",
    "The counts of bit that need to be flipped can be found by matching all the bits in both the integers one by one. If the bit under consideration differs then increment the counts of flips."
   ]
  },
  {
   "cell_type": "code",
   "execution_count": 17,
   "metadata": {},
   "outputs": [
    {
     "name": "stdout",
     "output_type": "stream",
     "text": [
      "3\n",
      "3\n",
      "1\n"
     ]
    }
   ],
   "source": [
    "def countFlips(a, b):\n",
    "    # Initially the flips is equal to 0\n",
    "    a = int(a)\n",
    "    b = int(b)\n",
    "    n_flips = 0\n",
    "\n",
    "    # Now & each bit of a and b with 1, store in d_a and d_b\n",
    "    while (a > 0 or b > 0):\n",
    "        d_a = (a & 1)\n",
    "        d_b = (b & 1)\n",
    "        # If d_a is not equal to d_b, flip the bit\n",
    "        if d_a != d_b:\n",
    "            n_flips += 1\n",
    "        # Right shifting a and b\n",
    "        a >>= 1\n",
    "        b >>= 1\n",
    "    return n_flips\n",
    "\n",
    "test_list = [[10, 1], [2, 5], [1, 0]]\n",
    "for i in range(len(test_list)):\n",
    "    print(countFlips(test_list[i][0], test_list[i][1]))"
   ]
  },
  {
   "attachments": {},
   "cell_type": "markdown",
   "metadata": {},
   "source": [
    "## 15. String Compression\n",
    "Count charater of a string and add the count after the charater."
   ]
  },
  {
   "cell_type": "code",
   "execution_count": 40,
   "metadata": {},
   "outputs": [
    {
     "data": {
      "text/plain": [
       "'a2b2d1e1'"
      ]
     },
     "execution_count": 40,
     "metadata": {},
     "output_type": "execute_result"
    }
   ],
   "source": [
    "def StringCompression(s):\n",
    "    r = \"\"\n",
    "    n = len(s)\n",
    "\n",
    "    # First, check for length 0\n",
    "    if n == 0:\n",
    "        return \"\"\n",
    "    \n",
    "    # Check of length 1\n",
    "    if n == 1:\n",
    "        return s + \"1\"\n",
    "    \n",
    "    # Initialize the value of count and index count\n",
    "    cnt = 1 \n",
    "    i = 1\n",
    "    \n",
    "    while i < n:\n",
    "        # Check to see if same as previous character\n",
    "        if s[i] == s[i-1]:\n",
    "            # Add to cnt if same as previous\n",
    "            cnt += 1\n",
    "        else:\n",
    "            # Store previous data\n",
    "            r = r + s[i-1] + str(cnt)\n",
    "            cnt = 1\n",
    "        # Now add to index count to terminate the while loop\n",
    "        i += 1\n",
    "\n",
    "    r = r + s[i-1] + str(cnt)\n",
    "    return r\n",
    "\n",
    "StringCompression(s=\"aabbde\")"
   ]
  },
  {
   "attachments": {},
   "cell_type": "markdown",
   "metadata": {},
   "source": [
    "## 16. Palindrome Number"
   ]
  },
  {
   "cell_type": "code",
   "execution_count": 13,
   "metadata": {},
   "outputs": [],
   "source": [
    "def IsPalindromeNumber(x):\n",
    "\n",
    "    if x < 0:\n",
    "        return False\n",
    "    else:\n",
    "        x = str(x)\n",
    "        if x == x[::-1]:\n",
    "            return True\n",
    "        else: \n",
    "            return False"
   ]
  },
  {
   "cell_type": "code",
   "execution_count": 18,
   "metadata": {},
   "outputs": [
    {
     "data": {
      "text/plain": [
       "True"
      ]
     },
     "execution_count": 18,
     "metadata": {},
     "output_type": "execute_result"
    }
   ],
   "source": [
    "IsPalindromeNumber(1221)"
   ]
  },
  {
   "cell_type": "code",
   "execution_count": 19,
   "metadata": {},
   "outputs": [
    {
     "data": {
      "text/plain": [
       "12"
      ]
     },
     "execution_count": 19,
     "metadata": {},
     "output_type": "execute_result"
    }
   ],
   "source": [
    "123//10"
   ]
  },
  {
   "cell_type": "code",
   "execution_count": 20,
   "metadata": {},
   "outputs": [
    {
     "data": {
      "text/plain": [
       "123"
      ]
     },
     "execution_count": 20,
     "metadata": {},
     "output_type": "execute_result"
    }
   ],
   "source": [
    "1234//10"
   ]
  },
  {
   "cell_type": "code",
   "execution_count": null,
   "metadata": {},
   "outputs": [],
   "source": []
  }
 ],
 "metadata": {
  "interpreter": {
   "hash": "e774977668b7c0ae8309835a5187aa7fbf7669e7d0bb59755bc63e573643edcd"
  },
  "kernelspec": {
   "display_name": "Python 3.7.8 64-bit",
   "language": "python",
   "name": "python3"
  },
  "language_info": {
   "codemirror_mode": {
    "name": "ipython",
    "version": 3
   },
   "file_extension": ".py",
   "mimetype": "text/x-python",
   "name": "python",
   "nbconvert_exporter": "python",
   "pygments_lexer": "ipython3",
   "version": "3.8.5"
  },
  "orig_nbformat": 2
 },
 "nbformat": 4,
 "nbformat_minor": 2
}

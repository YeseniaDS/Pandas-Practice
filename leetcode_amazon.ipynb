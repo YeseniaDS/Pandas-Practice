{
 "cells": [
  {
   "cell_type": "markdown",
   "metadata": {},
   "source": [
    "## Maximum Cumulative Observable Sum\n",
    "\n",
    "The price of Amazon common stock is analyzed over a period of month. A group of $k$ consecutive months is said to be observable if no two months in the group have the same stock price. In other words, all the prices in the period are distinct. The sum of stock prices of an observable group of months is called the ``cumulative observable sum``. Given the price of Amazon stock for $n$ months, find the maximum possible cumulative observable sum among all the observable groups of months. If there is not observable group, return -1. \n",
    "\n",
    "__Example__\n",
    "Monthly stock prices are given as $stockPrice = [1, 2, 7, 7, 4, 3, 6]$, and the number of consecutive months to consider is $k=3$, then the maximum value is 14 from observable group $[7, 4, 3]$"
   ]
  },
  {
   "cell_type": "code",
   "execution_count": 36,
   "metadata": {},
   "outputs": [
    {
     "data": {
      "text/plain": [
       "13"
      ]
     },
     "execution_count": 36,
     "metadata": {},
     "output_type": "execute_result"
    }
   ],
   "source": [
    "def maxCumObservableSum(s, k):\n",
    "\n",
    "    n = len(s)\n",
    "    if n < k:\n",
    "        return -1\n",
    "    \n",
    "    cnt = {}\n",
    "    curr_sum = 0\n",
    "    max_sum = -1\n",
    "    start = 0\n",
    "\n",
    "    for end in range(n):\n",
    "        curr_sum += s[end]\n",
    "        cnt[s[end]] = cnt.get(s[end], 0) + 1\n",
    "        if end - start + 1 > k:\n",
    "            curr_sum -= s[start]\n",
    "            cnt[s[start]] -= 1\n",
    "            if cnt[s[start]] == 0:\n",
    "                del cnt[s[start]]\n",
    "            start += 1\n",
    "        if len(cnt) == k:\n",
    "            max_sum = max(curr_sum, max_sum)\n",
    "    return max_sum\n",
    "maxCumObservableSum([1, 2, 7, 7, 4, 2, 6], 3)"
   ]
  },
  {
   "cell_type": "markdown",
   "metadata": {},
   "source": [
    "## Minimum Number of Keypresses\n",
    "\n",
    "You have a keypad with 9 buttons, numbered from 1 to 9, each mapped to lowercase English letters. You can choose which characters each button is matched to as long as:\n",
    "\n",
    "- All 26 lowercase English letters are mapped to.\n",
    "- Each character is mapped to by exactly 1 button.\n",
    "- Each button maps to at most 3 characters.\n",
    "\n",
    "To type the first character matched to a button, you press the button once. To type the second character, you press the button twice, and so on.\n",
    "\n",
    "Given a string ``s``, return the __minimum number of keypresses__ needed to type ``s`` using your keypad."
   ]
  },
  {
   "cell_type": "code",
   "execution_count": 37,
   "metadata": {},
   "outputs": [
    {
     "data": {
      "text/plain": [
       "18"
      ]
     },
     "execution_count": 37,
     "metadata": {},
     "output_type": "execute_result"
    }
   ],
   "source": [
    "def count_elements(ls):\n",
    "    cnt_dict = {}\n",
    "    \n",
    "    for ele in ls:\n",
    "        if ele in cnt_dict:\n",
    "            cnt_dict[ele] += 1\n",
    "        else:\n",
    "            cnt_dict[ele] = 1\n",
    "            \n",
    "    return cnt_dict\n",
    "\n",
    "from collections import Counter\n",
    "def minimumKeypresses(s):\n",
    "    cnt = Counter(s)\n",
    "    #cnt = count_elements(s)\n",
    "    ans = 0\n",
    "    i, j = 0, 1\n",
    "    for v in sorted(cnt.values(), reverse=True):\n",
    "        i += 1\n",
    "        ans += j * v\n",
    "        if i % 9 == 0:\n",
    "            j += 1\n",
    "    return ans\n",
    "\n",
    "s = \"abcdefghijklabc\"\n",
    "minimumKeypresses(s)"
   ]
  },
  {
   "cell_type": "markdown",
   "metadata": {},
   "source": [
    "## Data Locations\n",
    "Amazon stores its data on different servers at different locations. From time to time, due to several factors, Amazon needs to move its data from one location to another, This challenge involved keeping track of the locations of Amazon's data and report them at the end of the year.\n",
    "\n",
    "At the start of the year, Amazon's data was located at different locations. Over the course at the year, Amazon's data was moved from one server to another ``m`` times. Precisely, in the $i^{th}$ operation, the data was moved from ``movedFrom[i]`` to ``movedTo[i]``. Find the locations of the data after all m moving operations. Return the locations in ascending order.\n",
    "\n",
    "Note: It is guaranteed that for any movement of data:\n",
    "- There is data at ``movedFrom[i]``.\n",
    "- There is no data at ``movedtoi[i]``.\n",
    "\n",
    "__Function Description:__\n",
    "\n",
    "``findDataLocations`` has the following parameters:\n",
    "\n",
    "- ``locations[n]``: initial location of the data\n",
    "- ``moveFrom[m]``: locations where data is moved\n",
    "- ``moveTo[m]``: locations data is moved to\n",
    "\n",
    "Return the locations storing the data after all moves are made in ascending order."
   ]
  },
  {
   "cell_type": "code",
   "execution_count": 38,
   "metadata": {},
   "outputs": [
    {
     "name": "stdout",
     "output_type": "stream",
     "text": [
      "[5, 6, 8, 9]\n"
     ]
    }
   ],
   "source": [
    "def findDataLocations(initialLocations, moveFrom, moveTo):\n",
    "    # Create a dictionary to store the current locations of data\n",
    "    data_locations = {location: True for location in initialLocations}\n",
    "    \n",
    "    # Perform the data moves\n",
    "    for i in range(len(moveFrom)):\n",
    "        data_locations[moveFrom[i]] = False\n",
    "        data_locations[moveTo[i]] = True\n",
    "\n",
    "    # Filter out locations without data and return the sorted result\n",
    "    return sorted([location for location, has_data in data_locations.items() if has_data])\n",
    "\n",
    "# Test case example\n",
    "initial_locations = [1, 7, 6, 8]\n",
    "move_from = [1, 7, 2]\n",
    "move_to = [2, 9, 5]\n",
    "print(findDataLocations(initial_locations, move_from, move_to))"
   ]
  },
  {
   "cell_type": "markdown",
   "metadata": {},
   "source": [
    "## Search Word and Result Word\n",
    "\n",
    "Amazon Shopping provides a product-search feature that makes browsing products easier. Instead of showing exact matches only, it also displays transformable results for better browsing. A word ``a`` is said to be transformable to a word ``b`` if ``a`` is a subsequence of ``b``. Given ``searchWord`` and ``resultWord``, find the minimum number of characters that must be appended at the end of ``searchWord``, such that ``resultWord`` is a subsequence of the modified ``searchWord``.\n",
    "\n",
    "__Example__: ``searchWord`` = \"armaze\", ``resultWord`` = \"amazon\", add 2 characters ``on`` to ``searchWord`` to make ``resultWord``, a subsequence of ``searchWord``.\n",
    "\n",
    "Note: A subsequence of a string is a string that results from deleting 0 or more characters from the string without changing the order of the remaining characters. For example, ``amazon`` is a subsequence of ``abcmmdaqzxon`` while ``abc`` is not a subsequence of ``cdhbqaab``.\n"
   ]
  },
  {
   "cell_type": "code",
   "execution_count": 39,
   "metadata": {},
   "outputs": [
    {
     "name": "stdout",
     "output_type": "stream",
     "text": [
      "1\n"
     ]
    }
   ],
   "source": [
    "def minCharactersToSubsequence(searchWord, resultWord):\n",
    "    i, j = 0, 0\n",
    "    count = 0\n",
    "\n",
    "    while j < len(resultWord):\n",
    "        # Move the pointer for searchWord until it matches the current character in resultWord\n",
    "        while i < len(searchWord) and searchWord[i] != resultWord[j]:\n",
    "            i += 1\n",
    "\n",
    "        if i == len(searchWord):\n",
    "            # If we reach the end of searchWord and haven't found a match\n",
    "            # append the remaining characters of resultWord\n",
    "            count += len(resultWord) - j\n",
    "            break\n",
    "\n",
    "        # Move both pointers for matched characters\n",
    "        i += 1\n",
    "        j += 1\n",
    "\n",
    "    # Append the remaining characters of searchWord if any\n",
    "    count += len(searchWord) - i\n",
    "\n",
    "    return count\n",
    "\n",
    "# Example usage:\n",
    "searchWord = \"armazoe\"\n",
    "resultWord = \"amazon\"\n",
    "print(minCharactersToSubsequence(searchWord, resultWord))  # Output: 2\n"
   ]
  },
  {
   "cell_type": "markdown",
   "metadata": {},
   "source": [
    "## Count of Maximum Operations to Remove Patterns\n",
    "\n",
    "Amazon Engineering maintains a large number of logs of operations across all products. A software engineer is debugging an issue in a product. An efficient way to analyze logs is to write automated scripts to check for patterns. The engineer wants to __find the maximum number of times a target word can be obtained by rearranging a subset of characters__ in a log entry.\n",
    "\n",
    "Given a log entry ``s`` and target word ``t``, the target word can be obtained by selecting some subset of characters from ``s`` that can be rearranged to form string ``t`` and removing them from ``s``. Determine the maximum number of times the target word can be removed from the given log entry.\n",
    "\n",
    "Note: Both strings ``s`` and ``t`` consist only of lowercase English letters.\n",
    "\n",
    "__Example__: ``s`` = \"mononom\", ``t`` = \"mon\""
   ]
  },
  {
   "cell_type": "code",
   "execution_count": 40,
   "metadata": {},
   "outputs": [
    {
     "name": "stdout",
     "output_type": "stream",
     "text": [
      "2\n"
     ]
    }
   ],
   "source": [
    "def countMaximumOperations(s, t):\n",
    "    maxx = []\n",
    "    for i in range(len(set(t))):\n",
    "        t_count = t.count(t[i]) # count # occurrence of letter in target\n",
    "        s_count = s.count(t[i]) # count # occurrence of target letter in s\n",
    "        if t_count <= s_count:\n",
    "            maxx.append(s_count // t_count)\n",
    "        else:\n",
    "            return 0\n",
    "    return min(maxx)\n",
    "\n",
    "# Example usage\n",
    "s = \"monnomon\"\n",
    "t = \"mon\"\n",
    "print(countMaximumOperations(s, t))"
   ]
  },
  {
   "cell_type": "markdown",
   "metadata": {},
   "source": [
    "## Minimum Number of Groups with Allowed Difference \n",
    "Amazon Prime Video is a subscription video-on-demand over-the-top streaming and rental service. The team at Prime Video is developing a method to divide movies into groups based on the number of awards they have won. A group can consist of any number of movies, but the difference in the number of awards won by any two movies in the group must not exceed k.\n",
    "\n",
    "The movies can be grouped together irrespective of their initial order. Determine the minimum number of groups that can be formed such that each movie is in exactly one group.\n",
    "\n",
    "__Example__\n",
    "\n",
    "The numbers of awards per movie are awards = [1, 5, 4, 6, 8, 9, 2], and the maximum allowed\n",
    "difference is k = 3."
   ]
  },
  {
   "cell_type": "code",
   "execution_count": 41,
   "metadata": {},
   "outputs": [
    {
     "name": "stdout",
     "output_type": "stream",
     "text": [
      "3\n"
     ]
    }
   ],
   "source": [
    "def countMinimumGroups(arr, k):\n",
    "    arr.sort()\n",
    "    start = 0\n",
    "    if len(arr) == 0:\n",
    "        return 0\n",
    "    count = 1\n",
    "    for i in range(len(arr)):\n",
    "        if arr[i] - arr[start] > k:\n",
    "            count += 1\n",
    "            start = i\n",
    "    return count\n",
    "\n",
    "arr = [1, 5, 4, 6, 8, 9, 2]\n",
    "print(countMinimumGroups(arr, 3))  # Output: 3"
   ]
  },
  {
   "cell_type": "markdown",
   "metadata": {},
   "source": [
    "## Sum of Subarray Ranges\n",
    "You are given an integer array ``nums``. The __range__ of a subarray of ``nums`` is the difference between the largest and smallest element in the subarray.\n",
    "\n",
    "Return the __sum of all subarray ranges__ of ``nums``.\n",
    "\n",
    "A subarray is a contiguous non-empty sequence of elements within an array."
   ]
  },
  {
   "cell_type": "code",
   "execution_count": 42,
   "metadata": {},
   "outputs": [
    {
     "data": {
      "text/plain": [
       "59"
      ]
     },
     "execution_count": 42,
     "metadata": {},
     "output_type": "execute_result"
    }
   ],
   "source": [
    "def subArrayRanges(arr):\n",
    "    res = 0\n",
    "    n = len(arr)\n",
    "    for i in range(n):\n",
    "        l, r = arr[i], arr[i]\n",
    "        for j in range(i, n):\n",
    "            l = min(l, arr[j])\n",
    "            r = max(r, arr[j])\n",
    "            res += r - l\n",
    "    return res\n",
    "subArrayRanges([4, -2, -3, 4, 1])"
   ]
  },
  {
   "cell_type": "markdown",
   "metadata": {},
   "source": [
    "## Longest Substring Without Repeating Charaters\n",
    "\n",
    "Given a string ``s``, find the length of the longest substring without repeating characters."
   ]
  },
  {
   "cell_type": "code",
   "execution_count": 43,
   "metadata": {},
   "outputs": [
    {
     "data": {
      "text/plain": [
       "4"
      ]
     },
     "execution_count": 43,
     "metadata": {},
     "output_type": "execute_result"
    }
   ],
   "source": [
    "def LongestSubstring(s):\n",
    "    seen = {}\n",
    "    l = 0\n",
    "    longest = 0\n",
    "\n",
    "    for i in range(len(s)):\n",
    "        if s[i] not in seen:\n",
    "            longest = max(longest, i-l+1)\n",
    "        else:\n",
    "            if seen[s[i]] >= l:\n",
    "                l = seen[s[i]] + 1\n",
    "            else:\n",
    "                longest = max(longest, i-l+1)\n",
    "        seen[s[i]] = i\n",
    "    return longest\n",
    "\n",
    "LongestSubstring(\"aabbccdea\")"
   ]
  },
  {
   "cell_type": "markdown",
   "metadata": {},
   "source": [
    "## Minimum Size Subarray Sum\n",
    "\n",
    "Given an array of positive integers ``nums`` and a positive integer ``target``, return the __minimal length__ of a  subarray whose sum is greater than or equal to ``target``. If there is no such subarray, return ``0`` instead."
   ]
  },
  {
   "cell_type": "code",
   "execution_count": 44,
   "metadata": {},
   "outputs": [
    {
     "data": {
      "text/plain": [
       "2"
      ]
     },
     "execution_count": 44,
     "metadata": {},
     "output_type": "execute_result"
    }
   ],
   "source": [
    "def minSubArrayLen(nums, target):\n",
    "    min_len = float(\"inf\")\n",
    "    sums = 0\n",
    "    j = 0\n",
    "    \n",
    "    for i in range(len(nums)):\n",
    "        sums += nums[i]\n",
    "        while sums >= target:\n",
    "            min_len = min(min_len, i-j+1)\n",
    "            sums -= nums[j]\n",
    "            j += 1\n",
    "    \n",
    "    return min_len if min_len != float(\"inf\") else 0\n",
    "\n",
    "minSubArrayLen([1, 3, 2, 4, 1, 2, 5], 6)\n"
   ]
  },
  {
   "cell_type": "markdown",
   "metadata": {},
   "source": [
    "## Aggregate Temperature Change\n",
    "Alexa is Amazon's virtual Al assistant. It makes it easy to set up your Alexa-enabled devices, listen to music, get weather updates, and much more. The team is working on a new feature that evaluates the __aggregate temperature change__ for a period based on the changes in temperature of previous and upcoming days.\n",
    "\n",
    "Taking the change in temperature data of ``n`` days, the __aggregate temperature change__ evaluated on the $i^{th}$ day is the maximum of the sum of the changes in temperatures until the $i^{th}$ day, and the sum of the change in temperatures in the next $(n - i)$ days, with the $i$th day temperature change included in both.\n",
    "\n",
    "Given the temperature data of ``n`` days, find the maximum aggregate temperature change evaluated among all the days.\n",
    "\n",
    "__Example:__\n",
    "\n",
    "tempChange = [6, -2, 5]\n",
    "The aggregate temperature change on each day is calculated as\n",
    "- Day 1: $\\max(6, 6-2+5) = 9$\n",
    "- Day 2: $\\max(6-2, -2+5) = 4$\n",
    "- Day 3: $\\max(6-2+5, 5) = 9$\n",
    "\n",
    "Return max(9, 4, 9) = 9."
   ]
  },
  {
   "cell_type": "code",
   "execution_count": 45,
   "metadata": {},
   "outputs": [
    {
     "data": {
      "text/plain": [
       "9"
      ]
     },
     "execution_count": 45,
     "metadata": {},
     "output_type": "execute_result"
    }
   ],
   "source": [
    "def aggregateTempChange(temperatures):\n",
    "    n = len(temperatures)\n",
    "    max_agg = float('-inf')\n",
    "    for i in range(n):\n",
    "        part1 = sum(temperatures[:i+1])\n",
    "        part2 = sum(temperatures[i:])\n",
    "        m = max(part1, part2)\n",
    "        if m > max_agg:\n",
    "            max_agg = m\n",
    "    return max_agg\n",
    "\n",
    "aggregateTempChange([6, -2, 5])"
   ]
  },
  {
   "cell_type": "markdown",
   "metadata": {},
   "source": [
    "## Minimum Net Stock Change Month\n",
    "\n",
    "The interns at Amazon were asked to review the company's stock value over a period. Given the stock prices of ``n`` months, the net price change for the $i^{th}$ month is defined as the absolute difference between the average of stock prices for the first $i$ months and for the remaining $(n - i)$ months where $1 \\leq i < n$. Note that these averages are rounded down to an integer.\n",
    "\n",
    "Given an array of stock prices, find the month at which the net price change is minimum. If there are several such months, return the earliest month.\n",
    "\n",
    "Note: The average of a set of integers here is defined as the sum of integers divided by the number of integers, rounded down to the nearest integer. For example, the average of $[1, 2, 3, 4]$ is the floor of $(1 + 2 + 3 + 4) / 4 = 2.5$ and the floor of 2.5 is 2.\n",
    "\n",
    "__Example:__ ``stockPrice`` = [1, 3, 2, 4, 5]\n",
    "\n",
    "- Month 1: [1] and [3, 2, 4, 5], their respective averages, rounded down = 1 and 3, net price change = 2\n",
    "\n",
    "- Month 2: [1, 3] and [2, 4, 5], averages = 2 and 3, net price change = 1\n",
    "\n",
    "- Month 3: [1, 3, 2] and [4, 5], averages = 2 and 4, net price change = 2\n",
    "\n",
    "- Month 4: [1, 3, 2, 4] and [5], averages = 2 and 5, net price change = 3\n",
    "\n",
    "The minimum net price change is 1, and it occurs at month 2."
   ]
  },
  {
   "cell_type": "code",
   "execution_count": 46,
   "metadata": {},
   "outputs": [
    {
     "data": {
      "text/plain": [
       "2"
      ]
     },
     "execution_count": 46,
     "metadata": {},
     "output_type": "execute_result"
    }
   ],
   "source": [
    "def minimumStockChange(prices):\n",
    "    n = len(prices)\n",
    "    min_change = float(\"inf\")\n",
    "    res = 1\n",
    "    for i in range(n-1):\n",
    "        avg1 = sum(prices[:i+1])//len(prices[:i+1])\n",
    "        avg2 = sum(prices[i+1:])//len(prices[i+1:])\n",
    "        m = abs(avg1 - avg2)\n",
    "        if m < min_change:\n",
    "            min_change = m\n",
    "            res = i + 1\n",
    "    return res\n",
    "minimumStockChange([1, 3, 2, 4, 5]) # Output: 2"
   ]
  },
  {
   "cell_type": "markdown",
   "metadata": {},
   "source": [
    "## Minimum Average Difference\n",
    "\n",
    "You are given a __0-indexed__ integer array nums of length $n$.\n",
    "\n",
    "The average difference of the index $i$ is the absolute difference between the average of the first $i + 1$ elements of nums and the average of the last $n - i - 1$ elements. Both averages should be rounded down to the nearest integer.\n",
    "\n",
    "Return the index with the __minimum average difference__. If there are multiple such indices, return the __smallest__ one."
   ]
  },
  {
   "cell_type": "code",
   "execution_count": 47,
   "metadata": {},
   "outputs": [
    {
     "data": {
      "text/plain": [
       "3"
      ]
     },
     "execution_count": 47,
     "metadata": {},
     "output_type": "execute_result"
    }
   ],
   "source": [
    "def minimumAverageDifference(nums):\n",
    "    first_half, second_half = 0, sum(nums)\n",
    "    num_first_half = 0\n",
    "    ans, min_ind = 1e18, 1e18\n",
    "    for i in range(len(nums)):\n",
    "        first_half += nums[i]\n",
    "        num_first_half += 1\n",
    "        if i < len(nums) - 1:\n",
    "            carry = abs((first_half // num_first_half) - ((second_half - first_half)//(len(nums) - i - 1)))\n",
    "        else:\n",
    "            carry = abs(first_half // num_first_half)\n",
    "        if carry < ans:\n",
    "            ans = carry\n",
    "            min_ind = i\n",
    "    return min_ind    \n",
    "\n",
    "minimumAverageDifference([2,5,3,9,5,3])"
   ]
  },
  {
   "cell_type": "markdown",
   "metadata": {},
   "source": [
    "## Maximum Element After Decreasing and Rearranging\n",
    "\n",
    "You are given an array of positive integers ``arr``. Perform some operations (possibly none) on ``arr`` so that it satisfies these conditions:\n",
    "\n",
    "- The value of the __first__ element in ``arr`` must be 1.\n",
    "- The absolute difference between any 2 adjacent elements must be less than or equal to 1. In other words, $abs(arr[i] - arr[i - 1]) \\leq 1$ for each $i$ where $1 \\leq i < arr.length$ (0-indexed). \n",
    "\n",
    "There are 2 types of operations that you can perform any number of times:\n",
    "- Decrease the value of any element of ``arr`` to a smaller positive integer.\n",
    "- Rearrange the elements of ``arr`` to be in any order.\n",
    "\n",
    "Return the __maximum__ possible value of an element in ``arr`` after performing the operations to satisfy the conditions."
   ]
  },
  {
   "cell_type": "code",
   "execution_count": 48,
   "metadata": {},
   "outputs": [
    {
     "data": {
      "text/plain": [
       "4"
      ]
     },
     "execution_count": 48,
     "metadata": {},
     "output_type": "execute_result"
    }
   ],
   "source": [
    "def maximumElement(arr):\n",
    "    arr.sort()\n",
    "    n = len(arr)\n",
    "    arr[0] = 1\n",
    "    for i in range(1, n):\n",
    "        if arr[i] > arr[i-1] + 1:\n",
    "            arr[i] = arr[i-1] + 1\n",
    "    return arr[-1]\n",
    "maximumElement([1, 2, 3, 1, 5])"
   ]
  },
  {
   "cell_type": "markdown",
   "metadata": {},
   "source": [
    "## Merge Intervals\n",
    "Given an array of intervals where $intervals[i] = [start_i, end_i]$, merge all overlapping intervals, and return an array of the non-overlapping intervals that cover all the intervals in the input."
   ]
  },
  {
   "cell_type": "code",
   "execution_count": 49,
   "metadata": {},
   "outputs": [
    {
     "data": {
      "text/plain": [
       "[[1, 2], [2, 3], [3, 5]]"
      ]
     },
     "execution_count": 49,
     "metadata": {},
     "output_type": "execute_result"
    }
   ],
   "source": [
    "def mergeIntervals(intervals):\n",
    "    intervals.sort()\n",
    "    n = len(intervals)\n",
    "    if n == 1:\n",
    "        return intervals\n",
    "    \n",
    "    res = [intervals[0]]\n",
    "    for i in range(1, n):\n",
    "        if intervals[i][0] >= res[-1][1]:\n",
    "            res.append(intervals[i])\n",
    "        else:\n",
    "            new_intervals = [min(intervals[i][0], res[-1][0]), max(intervals[i][1], res[-1][1])]\n",
    "            res.pop()\n",
    "            res.append(new_intervals)\n",
    "    return res\n",
    "\n",
    "intervals = [[1, 2], [2, 3], [3, 5], [4, 5]]\n",
    "mergeIntervals(intervals)"
   ]
  },
  {
   "cell_type": "markdown",
   "metadata": {},
   "source": [
    "## Minimum Health\n",
    "You are playing a game that has $n$ levels numbered from 0 to $n - 1$. You are given a __0-indexed__ integer array ``damage`` where ``damage[i]`` is the amount of health you will lose to complete the $i^{th}$ level. You are also given an integer ``armor``. You may use your armor ability __at most once__ during the game on any level, which will protect you from __at most__ ``armor`` damage. You must complete the levels in order, and your health must be __greater than 0__ at all times to beat the game. Return the minimum health you need to start with to beat the game."
   ]
  },
  {
   "cell_type": "code",
   "execution_count": 50,
   "metadata": {},
   "outputs": [
    {
     "data": {
      "text/plain": [
       "13"
      ]
     },
     "execution_count": 50,
     "metadata": {},
     "output_type": "execute_result"
    }
   ],
   "source": [
    "def minimumHealth(damage, armor):\n",
    "    total = sum(damage)\n",
    "    maxDamage = max(damage)\n",
    "    return total + 1 - min(maxDamage, armor)\n",
    "minimumHealth([2, 7, 4, 3], 4)"
   ]
  },
  {
   "cell_type": "markdown",
   "metadata": {},
   "source": [
    "## Pascal's Triangle\n",
    "\n",
    "Given an integer``numRows``, return the first numRows of Pascal's triangle."
   ]
  },
  {
   "cell_type": "code",
   "execution_count": 51,
   "metadata": {},
   "outputs": [
    {
     "data": {
      "text/plain": [
       "[[1],\n",
       " [1, 1],\n",
       " [1, 2, 1],\n",
       " [1, 3, 3, 1],\n",
       " [1, 4, 6, 4, 1],\n",
       " [1, 5, 10, 10, 5, 1],\n",
       " [1, 6, 15, 20, 15, 6, 1],\n",
       " [1, 7, 21, 35, 35, 21, 7, 1],\n",
       " [1, 8, 28, 56, 70, 56, 28, 8, 1],\n",
       " [1, 9, 36, 84, 126, 126, 84, 36, 9, 1]]"
      ]
     },
     "execution_count": 51,
     "metadata": {},
     "output_type": "execute_result"
    }
   ],
   "source": [
    "def pascal(numRows):\n",
    "    triangles = []\n",
    "    for i in range(numRows):\n",
    "        triangles.append([])\n",
    "        for j in range(i + 1):\n",
    "            if j == 0 or j == i:\n",
    "                triangles[i].append(1)\n",
    "            else:\n",
    "                triangles[i].append(triangles[i - 1][j - 1] + triangles[i - 1][j])\n",
    "    return triangles\n",
    "\n",
    "pascal(10)"
   ]
  },
  {
   "cell_type": "markdown",
   "metadata": {},
   "source": [
    "## Distinct Subarrays with at most $k$ Odd Elements\n",
    "Given an integer array ``nums``, find number of distinct contiguous subarrays with at most ``k`` __odd elements__. Two subarrays are distinct when they have at least one different element.\n",
    "\n",
    "__Example:__\n",
    "\n",
    "- Input: $nums = [3, 2, 3, 4], k = 1$\n",
    "- Output: 7 \n",
    "- Explanation: [3], [2], [4], [3, 2], [2, 3], [3, 4], [2, 3, 4]"
   ]
  },
  {
   "cell_type": "code",
   "execution_count": 52,
   "metadata": {},
   "outputs": [],
   "source": [
    "def evenSubarray(arr, k):\n",
    "    res = set()\n",
    "    left, right, odd_num = 0, 0, 0\n",
    "    while right < len(arr):\n",
    "        if arr[right] % 2 == 1:\n",
    "            odd_num += 1\n",
    "\n",
    "        while odd_num > k and left < right:\n",
    "            if arr[left] % 2 == 1:\n",
    "                odd_num -= 1\n",
    "            left += 1\n",
    "\n",
    "        for left_start in range(left, right + 1):\n",
    "            res.add(tuple(arr[left_start:right + 1]))\n",
    "\n",
    "        right += 1\n",
    "\n",
    "    return len(res)"
   ]
  },
  {
   "cell_type": "markdown",
   "metadata": {},
   "source": [
    "## All Possible Common Prefix\n",
    "Kindle Direct Publishing, Amazon's e-book self-publishing platform, is working on a new feature to help authors track the use of text characters in different ways. They have asked for your help in beta testing a new part of the feature involving text prefixes and suffixes. \n",
    "\n",
    "Given a string, split the string into two substrings at every possible point. The rightmost substring is a ``suffix``. The beginning of the string is the ``prefix``. Determine the lengths of the __common prefix__ between each ``suffix`` and the original string. Sum and return the lengths of the common prefixes. Return an array where each element ``i`` is the sum for string ``i``."
   ]
  },
  {
   "cell_type": "code",
   "execution_count": 53,
   "metadata": {},
   "outputs": [
    {
     "name": "stdout",
     "output_type": "stream",
     "text": [
      "[6, 0, 3, 0, 1, 1]\n",
      "11\n"
     ]
    }
   ],
   "source": [
    "def lengthCommonPrefix(s):\n",
    "    prefix_lengths = []\n",
    "    total_sum = 0\n",
    "\n",
    "    for i in range(len(s)):\n",
    "        common_len = 0\n",
    "        for j in range(i, len(s)):\n",
    "            if s[j] == s[common_len]:\n",
    "                common_len += 1\n",
    "            else:\n",
    "                break\n",
    "\n",
    "        prefix_lengths.append(common_len)\n",
    "        total_sum += common_len\n",
    "\n",
    "    return prefix_lengths, total_sum\n",
    "\n",
    "# Test example\n",
    "s = \"ababaa\"#\"abcabcd\"\n",
    "prefix_lengths, total_sum = lengthCommonPrefix(s)\n",
    "print(prefix_lengths)  # Output: [7, 0, 0, 3, 0, 0, 0]\n",
    "print(total_sum)  # Output: 10"
   ]
  },
  {
   "cell_type": "markdown",
   "metadata": {},
   "source": [
    "## Maximum Sum of Subarray of Size $k$\n",
    "Given an array of integers and a number $k$, find the maximum sum of a subarray of size $k$. "
   ]
  },
  {
   "cell_type": "code",
   "execution_count": 54,
   "metadata": {},
   "outputs": [
    {
     "name": "stdout",
     "output_type": "stream",
     "text": [
      "13\n"
     ]
    }
   ],
   "source": [
    "def maximumSumSubarray(arr, k):\n",
    "    n = len(arr)\n",
    "    if n < k:\n",
    "        return 0\n",
    "    \n",
    "    max_sum = 0\n",
    "    for i in range(0, n-k+1):\n",
    "        temp = 0\n",
    "        for j in range(i, i+k):\n",
    "            temp += arr[j]\n",
    "        if (temp > max_sum): # update maximum sum\n",
    "            max_sum = temp\n",
    "    return sum(arr) - max_sum\n",
    " \n",
    " \n",
    "arr = [1, 4, 4, 6, 9, 4]#[ 1, 4, 2, 10, 2, 3, 1, 0, 20 ]\n",
    "k = 2#4\n",
    "print(maximumSumSubarray(arr, k))"
   ]
  },
  {
   "cell_type": "markdown",
   "metadata": {},
   "source": [
    "## Maximum Consecutive Ones\n",
    "Given a binary array and an integer ``k``, find the position of zeroes flipping which creates maximum number of consecutive 1's in array.\n",
    "\n",
    "Input: $nums = [1, 0, 0, 1, 1, 0, 1, 0, 1, 1, 1], k = 2$\n",
    "\n",
    "Output: $[5, 7]$\n",
    "\n",
    "We are allowed to flip maximum 2 zeroes. If we flip ``nums[5]`` and ``nums[7]``, we get 8 consecutive 1's which is maximum possible under given constraints"
   ]
  },
  {
   "cell_type": "code",
   "execution_count": 55,
   "metadata": {},
   "outputs": [
    {
     "data": {
      "text/plain": [
       "4"
      ]
     },
     "execution_count": 55,
     "metadata": {},
     "output_type": "execute_result"
    }
   ],
   "source": [
    "def longestOnes(nums, k):\n",
    "    result = count_0 = i = 0\n",
    "    for j, e in enumerate(nums):\n",
    "        count_0 += int(e == 0)\n",
    "        while count_0 > k:\n",
    "            count_0 -= int(nums[i] == 0)\n",
    "            i += 1\n",
    "\n",
    "        result = max(result, (j - i) + 1)\n",
    "\n",
    "    return result\n",
    "nums = [1, 0, 0, 0, 1, 0, 1, 0, 0, 0, 1]\n",
    "longestOnes(nums, 2)"
   ]
  },
  {
   "cell_type": "markdown",
   "metadata": {},
   "source": [
    "## Kindle Type of Pages\n",
    "The Amazon Kindle Store is an online e-book store where readers can choose a book from a wide range of categories. It also provides the ability to bookmark pages the user wishes to return to later. A book is represented as a binary string having two types of pages:\n",
    "- ``0``: an ordinary page\n",
    "- ``1``: a bookmarked page\n",
    "\n",
    "Find the number of ways to select 3 pages in ascending index order such that no two adjacent selected pages are of the same type.\n",
    "\n",
    "__Example:__ ``book = \"01001\"``\n",
    "\n",
    "The following sequences of pages match the criterion:\n",
    "- [1, 2, 3], that is, 01001 - 010.\n",
    "- [1, 2, 4], that is, 01001 - 010.\n",
    "- [2, 3, 5], that is, 01001 - 101.\n",
    "- [2, 4, 5], that is, 01001 - 101"
   ]
  },
  {
   "cell_type": "code",
   "execution_count": 56,
   "metadata": {},
   "outputs": [
    {
     "name": "stdout",
     "output_type": "stream",
     "text": [
      "8\n"
     ]
    }
   ],
   "source": [
    "def numberOfWays(s):\n",
    "    n = len(s)\n",
    "    res = 0\n",
    "    totalOnes = s.count('1')\n",
    "    totalZeros = n - totalOnes\n",
    "    cur_ones, cur_zeros = 0, 0\n",
    "\n",
    "    for i in range(n):\n",
    "        if s[i] == '0':\n",
    "            res += cur_ones * (totalOnes - cur_ones)\n",
    "        else:\n",
    "            cur_ones += 1\n",
    "\n",
    "    for i in range(n):\n",
    "        if s[i] == '1':\n",
    "            res += cur_zeros * (totalZeros - cur_zeros)\n",
    "        else:\n",
    "            cur_zeros += 1\n",
    "\n",
    "    return res\n",
    "\n",
    "# Test example\n",
    "s = \"101001\"\n",
    "result = numberOfWays(s)\n",
    "print(result)  # Output: 8"
   ]
  },
  {
   "cell_type": "markdown",
   "metadata": {},
   "source": [
    "## Combinations of 4's and 2's\n",
    "Given an integer denoting a total number of wheels, help Amazon Logistics find the number of different ways to choose a fleet of vehicles from an infinite supply of two-wheeled and four-wheeled vehicles such that the group of chosen vehicles has that exact total number of wheels. Two ways of choosing vehicles are considered to be different if and only if they contain different numbers of two-wheeled or four-wheeled vehicles.\n",
    "\n",
    "For example, if our array ``wheels = [4,5,6]``, then our return array would be ``res = [2, 0, 2]``. Case by case, we can have 1 four-wheel or 2 two-wheel to have 4 wheels. We cannot have 5 wheels. We can have 1 four-wheel and 1 two-wheel or 3 two-wheel vehicles in the final case. \n",
    "\n",
    "The function should return an array of integers representing the answer for each ``wheels[i]``."
   ]
  },
  {
   "cell_type": "code",
   "execution_count": 57,
   "metadata": {},
   "outputs": [
    {
     "data": {
      "text/plain": [
       "[2, 0, 4]"
      ]
     },
     "execution_count": 57,
     "metadata": {},
     "output_type": "execute_result"
    }
   ],
   "source": [
    "def chooseFleets(wheels):\n",
    "    res = []\n",
    "\n",
    "    for total_wheels in wheels:\n",
    "        ways = 0\n",
    "        max_fours = total_wheels // 4\n",
    "\n",
    "        for fours in range(max_fours + 1):\n",
    "            remaining_wheels = total_wheels - (fours * 4)\n",
    "            # Check if the remaining wheels can be evenly divided by 2\n",
    "            if remaining_wheels % 2 == 0:\n",
    "                twos = remaining_wheels // 2\n",
    "                # Check if the combination is valid (non-negative twos and fours)\n",
    "                if twos >= 0:\n",
    "                    ways += 1\n",
    "\n",
    "        res.append(ways)\n",
    "\n",
    "    return res\n",
    "\n",
    "# Test example\n",
    "wheels = [6, 5, 12]\n",
    "chooseFleets(wheels) # Output: [2, 0, 2]"
   ]
  },
  {
   "cell_type": "markdown",
   "metadata": {},
   "source": [
    "## $k^{th}$ Factor of $n$\n",
    "\n",
    "You are given two positive integers $n$ and $k$. A factor of an integer $n$ is defined as an integer $i$ where $n \\% i == 0$.\n",
    "\n",
    "Consider a list of all factors of $n$ sorted in ascending order, return the $k_{th}$ factor in this list or return -1 if n has less than $k$ factors."
   ]
  },
  {
   "cell_type": "code",
   "execution_count": 58,
   "metadata": {},
   "outputs": [
    {
     "data": {
      "text/plain": [
       "6"
      ]
     },
     "execution_count": 58,
     "metadata": {},
     "output_type": "execute_result"
    }
   ],
   "source": [
    "def kthFactor(n, k):\n",
    "    for i in range(1, n+1):\n",
    "        if n % i == 0:\n",
    "            k -= 1\n",
    "            if k == 0:\n",
    "                return i\n",
    "    return -1\n",
    "\n",
    "kthFactor(12, 5)"
   ]
  },
  {
   "cell_type": "markdown",
   "metadata": {},
   "source": [
    "## Minimum Swaps / Moves\n",
    "Given an array of binary digits 0 and 1, sort the array so that all zeros are at one end and all ones are at the other. To sort the array, swap any two adjacent elements. Determine the minimum number of swaps to sort the array.\n",
    "\n",
    "__Example:__ ``arr = [0, 1, 0, 1]``\n",
    "\n",
    "With 1 move, switching elements 1 and 2 yields ``[0, 0, 1, 1]``, a sorted array."
   ]
  },
  {
   "cell_type": "code",
   "execution_count": 59,
   "metadata": {},
   "outputs": [
    {
     "data": {
      "text/plain": [
       "3"
      ]
     },
     "execution_count": 59,
     "metadata": {},
     "output_type": "execute_result"
    }
   ],
   "source": [
    "def minMoves(arr):\n",
    "    count1 = 0\n",
    "    dis = 0\n",
    "    for num in arr:\n",
    "        if num == 1:\n",
    "            count1 += 1\n",
    "        if num == 0:\n",
    "            dis += count1\n",
    "    count0 = len(arr) - count1\n",
    "    rev_dis = count1 * count0 - dis\n",
    "    return min(dis, rev_dis)\n",
    "minMoves([0, 1, 0, 1, 0])"
   ]
  },
  {
   "cell_type": "markdown",
   "metadata": {},
   "source": [
    "## Password Strength\n",
    "For each substring of the password which contains at least one vowel and one consonant, its strength goes up by 1. vowels={'a', 'e', 'i', 'o', 'u'}, and rest of letters are all consonant.\n",
    "(Only lower alphabet letters).\n",
    "\n",
    "Input: ``thisisbeautiful``\n",
    "\n",
    "Output: 6\n",
    "\n",
    "Explaination: ``this, is, be, aut, if, ul``"
   ]
  },
  {
   "cell_type": "code",
   "execution_count": 60,
   "metadata": {},
   "outputs": [
    {
     "name": "stdout",
     "output_type": "stream",
     "text": [
      "6\n",
      "3\n",
      "0\n"
     ]
    }
   ],
   "source": [
    "def passwordStrength(word):\n",
    "  vowel = 0\n",
    "  consonent = 0\n",
    "  res = 0\n",
    "  for l in word:\n",
    "    if l == 'a' or l == 'e' or l == 'i' or l == 'o' or l == 'u':\n",
    "      vowel += 1\n",
    "    else:\n",
    "      consonent += 1\n",
    "    if vowel >= 1 and consonent >= 1:\n",
    "      res += 1\n",
    "      vowel = 0\n",
    "      consonent = 0\n",
    "  return res\n",
    "\n",
    "word='thisisbeautiful'\n",
    "word1='hackerrank'\n",
    "word2='aeiou'\n",
    "print(passwordStrength(word))\n",
    "print(passwordStrength(word1))\n",
    "print(passwordStrength(word2))"
   ]
  },
  {
   "cell_type": "markdown",
   "metadata": {},
   "source": [
    "## Minimum Delivery Trips\n",
    "You are an amazon delivery man and you have some boxes that you have to deliver, but there are some conditions -\n",
    "- You can take 2 boxes of same weight in one round\n",
    "- You can take 3 boxes of same weight in one round\n",
    "\n",
    "You have to find the minimum number of rounds to deliver the boxes or -1 if it is not possible to deliver them.\n",
    "\n",
    "__Example:__ \n",
    "\n",
    "- Input: ``boxes = [2, 2, 3, 3, 2, 4, 4, 4, 4, 4]``\n",
    "- Output: 4\n",
    "- Explanation: 3 boxes of weight 2 in 1st round, 2 boxes of weight 3 in 2nd round, 3 boxes of wt 4 in 3rd and 2 boxes of wt 4 in 4th round."
   ]
  },
  {
   "cell_type": "code",
   "execution_count": 61,
   "metadata": {},
   "outputs": [
    {
     "data": {
      "text/plain": [
       "4"
      ]
     },
     "execution_count": 61,
     "metadata": {},
     "output_type": "execute_result"
    }
   ],
   "source": [
    "def minimumTotalTrips(nums):\n",
    "\timport collections\n",
    "\timport math\n",
    "\tc = collections.Counter(nums)\n",
    "\t\n",
    "\ttot_trips = 0\n",
    "\t\n",
    "\tfor count in c.values():\n",
    "\t\tif count == 1: \n",
    "\t\t\treturn -1\n",
    "\t\ttot_trips += math.ceil(count/3)\n",
    "\n",
    "\treturn tot_trips\n",
    "minimumTotalTrips([2, 2, 3, 3, 2, 4, 4, 4, 4, 4])"
   ]
  },
  {
   "cell_type": "markdown",
   "metadata": {},
   "source": [
    "## Heaviest Packages"
   ]
  },
  {
   "cell_type": "markdown",
   "metadata": {},
   "source": [
    "Consider ``n`` packages , where ``packageWeights[i]`` represents the weight of the ``i`th` package, You can combine ``i``th and ``i+1``th package if ``packageWeights[i] < packageWeights[i+1]`` and then discard the ``i``th package. After this operation number of packages reduces by 1 and weight of ``i+1``th package increases by ``packageWeights[i]``. You can merge as many times as you want.\n",
    "\n",
    "Find the max possible weight of the package that can be achieved after any sequence of merge operations\n",
    "\n",
    "__Example:__ ``packageWeights =[2,9,10,3,7]``, optimal order:\n",
    "- iteration 1 combine packages at index 2 and 3 ->new packageWeights =[2,19,3,7]\n",
    "- iteration 2 combine packages at index 1 and 2 ->new packageWeights =[21,3,7]\n",
    "- iteration 3 combine packages at index 2 and 3 ->new packageWeights =[21,10]"
   ]
  },
  {
   "cell_type": "code",
   "execution_count": 62,
   "metadata": {},
   "outputs": [
    {
     "data": {
      "text/plain": [
       "21"
      ]
     },
     "execution_count": 62,
     "metadata": {},
     "output_type": "execute_result"
    }
   ],
   "source": [
    "def getHeaviestPackage(packageWeights):\n",
    "    n = len(packageWeights) - 1\n",
    "    \n",
    "    while n >= 1:\n",
    "        p1, p2 = packageWeights[n], packageWeights[n-1]\n",
    "        \n",
    "        if p1 > p2:  # then it's possible to merge the weights\n",
    "            packageWeights[n-1] = p1 + p2\n",
    "            del packageWeights[n]\n",
    "        \n",
    "        n -= 1\n",
    "    \n",
    "    return max(packageWeights)\n",
    "\n",
    "getHeaviestPackage([2, 9, 10, 3, 7])"
   ]
  },
  {
   "cell_type": "markdown",
   "metadata": {},
   "source": [
    "## Maximum Number of \"AZ\"\n",
    "\n",
    "Since \"Amazon\" is often shortened to \"AZ\" while texting, as part of an experiment, Amazon is keen on knowing how many \"AZ\" subsequences there are in a word in their product reviews. Find the maximum possible count of subsequences after making the given operation.\n",
    "\n",
    "More formally, given a string consisting of uppercase English letters, __at most one character can be added anywhere in the string__. Add at most 1 uppercase character to a string to maximize its number of \"AZ\" subsequences.\n",
    "\n",
    "Note: A subsequence of a string is created by deleting zero or more characters while maintaining the original order. For example, ``\"AZ\"`` is a subsequence of ``\"SARZ\"`` but not a subsequence of ``\"ZRA\"``.\n",
    "\n",
    "__Example:__ ``s = \"AKZ\"``\n",
    "\n",
    "One choice is to add an ``\"A\"`` just after ``\"K\"`` to make ``\"AKAZ\"``. The number of subsequences ``\"AZ\"`` in this is 2, which is the most possible.\n",
    "\n",
    "Return the maximum number of ``\"AZ\"`` subsequences after adding at most one character."
   ]
  },
  {
   "cell_type": "code",
   "execution_count": 63,
   "metadata": {},
   "outputs": [
    {
     "name": "stdout",
     "output_type": "stream",
     "text": [
      "0\n",
      "5\n",
      "9\n",
      "15\n",
      "11\n",
      "2\n",
      "15\n"
     ]
    }
   ],
   "source": [
    "def countAZ(s):\n",
    "    cnt = 0\n",
    "    for i in range(len(s)):\n",
    "        if s[i] == \"A\":\n",
    "            cnt += s[i+1:].count(\"Z\")\n",
    "    return cnt\n",
    "\n",
    "def maxSubsequences(s):\n",
    "    add_A = \"A\" + s\n",
    "    add_Z = s + \"Z\"\n",
    "    return max(countAZ(add_A), countAZ(add_Z))\n",
    "\n",
    "print(countAZ('AB'))\n",
    "print(countAZ(\"BAAZAZ\"))\n",
    "print(countAZ(\"BZAZAZZZZ\"))\n",
    "print (countAZ(\"ABZAZAZZZZ\"))\n",
    "print (countAZ(\"BZAZAZZZZZ\"))\n",
    "print(maxSubsequences(\"AKZ\"))\n",
    "print(maxSubsequences(\"BZAZAZZZZ\"))"
   ]
  },
  {
   "cell_type": "markdown",
   "metadata": {},
   "source": [
    "## Maximum Greyness\n",
    "Several satellites provide observational black and white images which are stored in data centers at Amazon Web Services (AWS).\n",
    "\n",
    "A black and white image is composed of pixels and is represented as an ``n * m `` grid of cells. Each pixel can have a value of ``0`` or ``1``, where ``0`` represents a white pixel and ``1`` represents a black pixel. The greyness of a ``cell(i, j)`` is affected by the pixel values in the ``ith`` row and the ``jth`` column. More formally, the greyness of the ``cell(i,j)`` is the difference between the number of black pixels in the ``ith`` row and the ``jth`` column and the number of white pixels in the ``ith`` row and the ``jth`` column.\n",
    "\n",
    "Find the maximum greyness among all the cells of the grid."
   ]
  },
  {
   "cell_type": "code",
   "execution_count": 64,
   "metadata": {},
   "outputs": [
    {
     "name": "stdout",
     "output_type": "stream",
     "text": [
      "2 [2, 0, 2, 0, -2, 0, 2, 0, 2]\n"
     ]
    }
   ],
   "source": [
    "def maximumGreyness(image):\n",
    "    n = len(image)  # Number of rows\n",
    "    m = len(image[0])  # Number of columns\n",
    "\n",
    "    res_greyness = []\n",
    "    max_greyness_val = float(\"-inf\")\n",
    "\n",
    "    for i in range(n):\n",
    "        for j in range(m):\n",
    "            black_in_row = sum(image[i])\n",
    "            black_in_col = sum(image[r][j] for r in range(n))\n",
    "            white_in_row = m - black_in_row\n",
    "            white_in_col = n - black_in_col\n",
    "\n",
    "            greyness = (black_in_row + black_in_col ) - (white_in_col + white_in_row)\n",
    "            max_greyness_val = max(max_greyness_val, greyness)\n",
    "            res_greyness.append(greyness)\n",
    "\n",
    "    return max_greyness_val, res_greyness\n",
    "\n",
    "# Example\n",
    "image = [\n",
    "    [1, 0, 1],\n",
    "    [0, 0, 1],\n",
    "    [1, 1, 0],\n",
    "]\n",
    "result = maximumGreyness(image)\n",
    "print(result[0], result[1])  # Output: 2"
   ]
  },
  {
   "cell_type": "markdown",
   "metadata": {},
   "source": [
    "## Demolition Robot\n",
    "You are in charge of preparing a recently purchased lot for one of Amazon's new building. The lot is covered with trenches and has a single obstacle that needs to be taken down before the foundation can be prepared for the building. The demolition robot must remove the obstace before progress can be made on the building.\n",
    "\n",
    "Write an algorithm to determine the minimum distance required for the demolition robot to remove the obstacle.\n",
    "\n",
    "Assumptions: The lot is flat, except for trenches, and can be represented as a two-dimensional grid. The demolition robot must start from the top-left corner of the lot, which is always flat, and can move one block up, down, left, or right at a time. The demolition robot cannot enter trenches and cannot leave the lot. The flat areas are represented as 1, areas with trenches are represented by 0 and the obstacle is represented by 9.\n",
    "\n",
    "- The input to the function/method consists of one argument ``lot``, representing the two-dimensional grid of integers.\n",
    "- Output: return an integer representing the minimum distance traversed to remove the obstacle else return -1. "
   ]
  },
  {
   "cell_type": "code",
   "execution_count": 65,
   "metadata": {},
   "outputs": [
    {
     "name": "stdout",
     "output_type": "stream",
     "text": [
      "3\n"
     ]
    }
   ],
   "source": [
    "from collections import deque\n",
    "\n",
    "def demolition_robot(grid):\n",
    "    n = len(grid)\n",
    "    m = len(grid[0])\n",
    "\n",
    "    q = deque()\n",
    "    visited = [[False for _ in range(m)] for _ in range(n)]\n",
    "\n",
    "    minD = float('inf')\n",
    "\n",
    "    directions = [(0, 1), (1, 0), (0, -1), (-1, 0)]\n",
    "\n",
    "    q.append((0, 0))\n",
    "    visited[0][0] = True\n",
    "\n",
    "    while q:\n",
    "        cur = q.popleft()\n",
    "        for d in directions:\n",
    "            nX = cur[0] + d[0]\n",
    "            nY = cur[1] + d[1]\n",
    "\n",
    "            if nX < 0 or nY < 0 or nX >= n or nY >= m or grid[nX][nY] == 0:\n",
    "                continue\n",
    "\n",
    "            if grid[nX][nY] == 9:\n",
    "                minD = min(minD, grid[cur[0]][cur[1]])\n",
    "\n",
    "            if grid[nX][nY] == 1 and not visited[nX][nY]:\n",
    "                grid[nX][nY] = grid[cur[0]][cur[1]] + 1\n",
    "                visited[nX][nY] = True\n",
    "                q.append((nX, nY))\n",
    "\n",
    "    return minD\n",
    "\n",
    "# Test example\n",
    "grid = [\n",
    "    [1, 0, 0],\n",
    "    [1, 0, 0],\n",
    "    [1, 9, 1]\n",
    "]\n",
    "result = demolition_robot(grid)\n",
    "print(result)  # Output: 3\n"
   ]
  },
  {
   "cell_type": "markdown",
   "metadata": {},
   "source": [
    "## Sliding Window Maximum + Binary Search(LeetCode 239)\n",
    "\n",
    "You are given an array of integers ``nums``, there is a sliding window of size ``k`` which is moving from the very left of the array to the very right. You can only see the ``k`` numbers in the window. Each time the sliding window moves right by one position. Return the __max sliding window__."
   ]
  },
  {
   "cell_type": "code",
   "execution_count": 66,
   "metadata": {},
   "outputs": [
    {
     "data": {
      "text/plain": [
       "[3, 3, 5, 5, 6, 7]"
      ]
     },
     "execution_count": 66,
     "metadata": {},
     "output_type": "execute_result"
    }
   ],
   "source": [
    "def maxSlidingWindow(nums, k):\n",
    "    from collections import deque\n",
    "    q = deque() # stores *indices*\n",
    "    res = []\n",
    "    for i, cur in enumerate(nums):\n",
    "        while q and nums[q[-1]] <= cur:\n",
    "            q.pop()\n",
    "        q.append(i)\n",
    "        # remove first element if it's outside the window\n",
    "        if q[0] == i - k:\n",
    "            q.popleft()\n",
    "        # if window has k elements add to results (first k-1 windows have < k elements because we start from empty window and add 1 element each iteration)\n",
    "        if i >= k - 1:\n",
    "            res.append(nums[q[0]])\n",
    "    return res\n",
    "\n",
    "nums = [1,3,-1,-3,5,3,6,7]\n",
    "k = 3\n",
    "maxSlidingWindow(nums, k)"
   ]
  },
  {
   "cell_type": "markdown",
   "metadata": {},
   "source": [
    "## Max Length of Valid Server Cluster\n",
    "Give you a list servers. Their processing power is given as a array of integer, and boot power as a array of integer.\n",
    "\n",
    "Write a function to return the max length of subarray whose power consumption is less than or equal to max power limit.\n",
    "\n",
    "Formula to calculate the power consumption for a subArray is:\n",
    "\n",
    "``Max(bootPower[i...j]) + Sum(processPower[i....j]) * length of subArray``.\n",
    "\n",
    "Note: Single server is also a subarray, return 0 if no such subarray can be found"
   ]
  },
  {
   "cell_type": "code",
   "execution_count": 67,
   "metadata": {},
   "outputs": [
    {
     "name": "stdout",
     "output_type": "stream",
     "text": [
      "3\n"
     ]
    }
   ],
   "source": [
    "from collections import deque\n",
    "\n",
    "def maxLengthOfValidServer(bootingPower, processPower, powerMax):\n",
    "    res = 0\n",
    "    l, r = 0, 0\n",
    "    sumVal = 0 # Help store the cumulative sum in the sliding window\n",
    "    window = deque() # Help extract max value in the sliding window\n",
    "    \n",
    "    while r < len(bootingPower):\n",
    "        # Clear smaller values before appending the new value\n",
    "        while window and window[-1] < bootingPower[r]:\n",
    "            window.pop()\n",
    "        window.append(bootingPower[r]) # Append new value, expand the sliding window\n",
    "        # Get the max val in the curr sliding window from deque\n",
    "        maxVal = window[0]\n",
    "        sumVal += processPower[r]\n",
    "        r += 1 # Move forward the right pointer\n",
    "        consmp = maxVal + sumVal * (r - l)\n",
    "        \n",
    "        # Shrink the window when consmp bigger than the threshold\n",
    "        while consmp > powerMax:\n",
    "            # Pop the left element from deque\n",
    "            # If head of deque isn't equal to lth element, it means that lth element is already popped out\n",
    "            if window[0] == bootingPower[l]:\n",
    "                window.popleft()\n",
    "            maxVal = window[0]\n",
    "            sumVal -= processPower[l]\n",
    "            l += 1 # Move forward the left pointer\n",
    "            consmp = maxVal + sumVal * (r - l)\n",
    "        # Consmp is no bigger than the powerMax, satisfying the condition, update the max length\n",
    "        res = max(res, r - l)\n",
    "    return res\n",
    "\n",
    "bootingPower = [3, 6, 1, 3, 4]\n",
    "processPower = [2, 1, 3, 4, 5]\n",
    "powerMax = 25\n",
    "print(maxLengthOfValidServer(bootingPower, processPower, powerMax)) # The result"
   ]
  },
  {
   "cell_type": "markdown",
   "metadata": {},
   "source": [
    "## Find Number of Served Buildings\n",
    "\n",
    "Given:\n",
    "\n",
    "- Head count for a list of buildings\n",
    "- Array of range for each router\n",
    "- Array of location of each router\n",
    "\n",
    "If a router location is $i$ and it's range is $k$ then it will serve buildings at indices $i-k$ to $i+k$ inclusive. A building is considered as served if the number of routers serving that building is greater than or equal to head count of that building.\n",
    "\n",
    "__Example:__\n",
    "\n",
    "- headCount: [2, 3, 3, 1, 5, 6]\n",
    "\n",
    "- routerLocation: [2, 4, 1]\n",
    "\n",
    "- routerRange: [2, 4, 3]\n",
    "\n",
    "Number of routrers serving each building would be [2, 2, 3, 3, 3, 1] so buildings at indices. 0, 2 and 3 would be considered as served and hence the answer would be 3 (number of served buildings)."
   ]
  },
  {
   "cell_type": "code",
   "execution_count": 68,
   "metadata": {},
   "outputs": [],
   "source": [
    "class BuildingsWithWifi:\n",
    "    class Router:\n",
    "        def __init__(self, location, range):\n",
    "            self.location = location\n",
    "            self.range = range\n",
    "\n",
    "    def get_served_buildings(self, building_count, router_location, router_range):\n",
    "        buildings_served_array = building_count[:]\n",
    "        is_building_served_array = [False] * len(building_count)\n",
    "        routers = []\n",
    "\n",
    "        # Loop and add location and range to routers list (subtract 1 from location for 0 indexing)\n",
    "        for i in range(len(router_location)):\n",
    "            routers.append(self.Router(router_location[i] - 1, router_range[i]))\n",
    "\n",
    "        buildings_served = 0\n",
    "\n",
    "        # Loop over routers\n",
    "        for i in routers:\n",
    "            # Check if router location minus range is in bounds (greater than or equal to 0) - set index\n",
    "            index = max(i.location - i.range, 0)\n",
    "            # While index is in bounds and less than router location plus router range\n",
    "            while index < len(buildings_served_array) and index <= i.location + i.range:\n",
    "                # Subtract 1 from each building in range\n",
    "                buildings_served_array[index] -= 1\n",
    "                # Check if building count <= 0 and has not already been counted\n",
    "                if buildings_served_array[index] <= 0 and not is_building_served_array[index]:\n",
    "                    # Count and set to true\n",
    "                    buildings_served += 1\n",
    "                    is_building_served_array[index] = True\n",
    "                # Increment index\n",
    "                index += 1\n",
    "\n",
    "        # Return total buildings served\n",
    "        return buildings_served"
   ]
  },
  {
   "cell_type": "markdown",
   "metadata": {},
   "source": [
    "## Sum of Scores of Subarray\n",
    "\n",
    "For an array of size ``n``, calculate the sum of power of every subarray.\n",
    "\n",
    "Power of subarray ``[i, j]`` is ``min(i, j) * sum(i, j)``.\n",
    "\n",
    "Sum of power of every subarray in [2,3,2,1] is 69 (36 + 25 + 7 + 1):\n",
    "\n",
    "[2]: 2 * 2 = 4, [2, 3]: 2 * 5 = 10, [2,3,2]: 2 * 7 = 14, [2, 3, 2, 1]: 1 * 8 = 8 [3]: 3 * 3 = 9, [3,2]: 2 * 5 = 10, [3,2,1]:1 * 6 = 6 [2]: 2 * 2 = 4, [2, 1]: 1 * 3 = 3 [1]: 1 * 1 = 1\n",
    "\n",
    "https://leetcode.com/discuss/interview-question/1736639/solution-to-amazon-oa-2022-problem-sum-of-scores-of-subarray/1255065"
   ]
  },
  {
   "cell_type": "markdown",
   "metadata": {},
   "source": [
    "## Find Maximum Sum of First and Last Element of a Linked List\n",
    "Given a singly linked list where each element contains a number and a pointer to the head of the list. Sum the first and last data and remove these nodes. Then sum the first and last data of the resulting linked list and remove these two nodes.\n",
    "\n",
    "Keep doing this till the list becomes empty. we have to find the maximum sum obtained from the resulting sum in O(1) space complexity.\n",
    "\n",
    "The list is a singly linked list with even nodes."
   ]
  }
 ],
 "metadata": {
  "kernelspec": {
   "display_name": "base",
   "language": "python",
   "name": "python3"
  },
  "language_info": {
   "codemirror_mode": {
    "name": "ipython",
    "version": 3
   },
   "file_extension": ".py",
   "mimetype": "text/x-python",
   "name": "python",
   "nbconvert_exporter": "python",
   "pygments_lexer": "ipython3",
   "version": "3.10.11"
  },
  "orig_nbformat": 4
 },
 "nbformat": 4,
 "nbformat_minor": 2
}

{
 "cells": [
  {
   "attachments": {},
   "cell_type": "markdown",
   "metadata": {},
   "source": [
    "## 1. Two Sums"
   ]
  },
  {
   "cell_type": "code",
   "execution_count": 1,
   "metadata": {
    "tags": []
   },
   "outputs": [
    {
     "name": "stdout",
     "output_type": "stream",
     "text": [
      "[1, 3]\n",
      "[0, 4]\n"
     ]
    }
   ],
   "source": [
    "nums = [2, 3, 7, 9, 10]\n",
    "target = 12\n",
    "\n",
    "# define a dictionary to store the value (key) and index (value)\n",
    "dic = {}\n",
    "for i, val_1 in enumerate(nums):\n",
    "    val_2 = target - val_1\n",
    "    if val_2 not in dic:\n",
    "        dic[val_1] = i\n",
    "    else:\n",
    "        print([dic[val_2],i])\n"
   ]
  },
  {
   "cell_type": "code",
   "execution_count": 2,
   "metadata": {
    "tags": []
   },
   "outputs": [
    {
     "name": "stdout",
     "output_type": "stream",
     "text": [
      "[1, 3]\n",
      "[0, 4]\n"
     ]
    }
   ],
   "source": [
    "class Solution:\n",
    "    def TwoSum(self, nums, target):\n",
    "        \"\"\"\n",
    "        type nums: list[int]\n",
    "        type target: int\n",
    "        rtype: list[int]\n",
    "        \n",
    "        \"\"\"\n",
    "        # define a dictionary to store keys\n",
    "        h = {}\n",
    "        for i, j in enumerate(nums):\n",
    "            n = target - j\n",
    "            if n not in h:\n",
    "                h[j] = i\n",
    "            else:\n",
    "                print([h[n], i])\n",
    "\n",
    "nums = [2,3,7,9,10]\n",
    "target = 12\n",
    "index = Solution.TwoSum(self=None,nums=nums,target=target)"
   ]
  },
  {
   "attachments": {},
   "cell_type": "markdown",
   "metadata": {},
   "source": [
    "## 2. Add Two Numbers\n",
    "\n",
    "You are given two non-empty linked lists representing two non-negative integers. The digits are stored in reverse order, and each of their nodes contains a single digit. Add the two numbers and return the sum as a linked list.\n",
    "\n",
    "You may assume the two numbers do not contain any leading zero, except the number 0 itself."
   ]
  },
  {
   "cell_type": "code",
   "execution_count": 3,
   "metadata": {},
   "outputs": [],
   "source": [
    "class Solution:\n",
    "    def addTwoNumbers(self, l1, l2):\n",
    "        \"\"\"\n",
    "        :type l1: ListNode\n",
    "        :type l2: ListNode\n",
    "        :rtype: ListNode\n",
    "        \"\"\"\n",
    "        sum1, sum2 = 0, 0\n",
    "        for i, j in enumerate(l1):\n",
    "            sum1 += j * 10**i\n",
    "        for i, j in enumerate(l2):\n",
    "            sum2 += j * 10**i\n",
    "        \n",
    "        total_sum = sum1 + sum2\n",
    "        return([int(d) for d in str(total_sum)][::-1])"
   ]
  },
  {
   "cell_type": "code",
   "execution_count": 4,
   "metadata": {},
   "outputs": [
    {
     "data": {
      "text/plain": [
       "[6, 4, 4, 1]"
      ]
     },
     "execution_count": 4,
     "metadata": {},
     "output_type": "execute_result"
    }
   ],
   "source": [
    "l1 = [2, 3, 5]\n",
    "l2 = [4, 1, 9]\n",
    "Solution.addTwoNumbers(self=None,l1=l1,l2=l2)"
   ]
  },
  {
   "attachments": {},
   "cell_type": "markdown",
   "metadata": {},
   "source": [
    "## 3. Longest common prefix using sorting"
   ]
  },
  {
   "cell_type": "code",
   "execution_count": 5,
   "metadata": {},
   "outputs": [
    {
     "data": {
      "text/plain": [
       "'gee'"
      ]
     },
     "execution_count": 5,
     "metadata": {},
     "output_type": "execute_result"
    }
   ],
   "source": [
    "def CommonPrefix(str1, str2):\n",
    "    n1 = len(str1)\n",
    "    n2 = len(str2)\n",
    "\n",
    "    i = j = 0\n",
    "    res = ''\n",
    "    while i < n1 and j < n2:\n",
    "        if str1[i] != str2[i]:\n",
    "            break\n",
    "        else:\n",
    "            res += str1[i]\n",
    "            i += 1\n",
    "            j += 1    \n",
    "    return res\n",
    "\n",
    "def LongestCommonPrefix(strs):\n",
    "    prefix = strs[0]\n",
    "    for i in range(1, len(strs)):\n",
    "        prefix = CommonPrefix(prefix, strs[i])\n",
    "    return prefix\n",
    "\n",
    "test_list = ['geeksforgeeks', 'geeks', 'geezer', 'geekand']\n",
    "LongestCommonPrefix(test_list)"
   ]
  },
  {
   "attachments": {},
   "cell_type": "markdown",
   "metadata": {},
   "source": [
    "## 4. Single Number\n",
    "\n",
    "Given a non-empty array of integers nums, every element appears twice except for one. Find that single one."
   ]
  },
  {
   "cell_type": "code",
   "execution_count": 6,
   "metadata": {},
   "outputs": [
    {
     "data": {
      "text/plain": [
       "2"
      ]
     },
     "execution_count": 6,
     "metadata": {},
     "output_type": "execute_result"
    }
   ],
   "source": [
    "def singleNumber(nums):\n",
    "    dict = {}\n",
    "    for ele in nums:\n",
    "        if ele not in dict:\n",
    "            dict[ele] = True\n",
    "        else:\n",
    "            dict[ele] = False\n",
    "    for key, val in dict.items():\n",
    "        if val == True:\n",
    "            return key\n",
    "\n",
    "singleNumber([1, 1,2, 3,3])"
   ]
  },
  {
   "attachments": {},
   "cell_type": "markdown",
   "metadata": {},
   "source": [
    "## 5. Search Insert Position\n",
    "\n",
    "Given a sorted array of distinct integers and a target value, return the index if the target is found. If not, return the index where it would be if it were inserted in order.\n",
    "\n",
    "You must write an algorithm with O(log n) runtime complexity."
   ]
  },
  {
   "cell_type": "code",
   "execution_count": 7,
   "metadata": {},
   "outputs": [
    {
     "data": {
      "text/plain": [
       "4"
      ]
     },
     "execution_count": 7,
     "metadata": {},
     "output_type": "execute_result"
    }
   ],
   "source": [
    "def SearchInsert(nums, target):\n",
    "    left = 0\n",
    "    right = len(nums) - 1\n",
    "    idx= len(nums) # Default index when target is greater than all elements\n",
    "\n",
    "    while left <= right:\n",
    "        mid = (left + right)//2\n",
    "        if nums[mid] == target:\n",
    "            return mid\n",
    "        elif nums[mid] < target:\n",
    "            left = mid + 1\n",
    "        else:\n",
    "            idx = mid\n",
    "            right = mid - 1\n",
    "    return idx\n",
    "\n",
    "SearchInsert([1, 2, 3, 5], 6)"
   ]
  },
  {
   "attachments": {},
   "cell_type": "markdown",
   "metadata": {},
   "source": [
    "## 6. Smallest Poitive Missing Number"
   ]
  },
  {
   "cell_type": "code",
   "execution_count": 8,
   "metadata": {},
   "outputs": [
    {
     "data": {
      "text/plain": [
       "1"
      ]
     },
     "execution_count": 8,
     "metadata": {},
     "output_type": "execute_result"
    }
   ],
   "source": [
    "def SmallestMissingPositiveNumber(arr):\n",
    "    n = len(arr)\n",
    "    my_dict = {}\n",
    "\n",
    "    for i in range(n):\n",
    "        if arr[i] > 0:\n",
    "            if arr[i] not in my_dict:\n",
    "                my_dict[arr[i]] = 0\n",
    "            else:\n",
    "                my_dict[arr[i]] += 1 # count of occurence\n",
    "    \n",
    "    idx = 1\n",
    "    if idx not in my_dict.values():\n",
    "        return idx\n",
    "    else:\n",
    "        idx += 1\n",
    "\n",
    "SmallestMissingPositiveNumber([-1, 0, 2, 3, 4])"
   ]
  },
  {
   "attachments": {},
   "cell_type": "markdown",
   "metadata": {},
   "source": [
    "## 7. Smallest Number Greater Than \"N\" With Same Digit Sum As \"N\""
   ]
  },
  {
   "cell_type": "code",
   "execution_count": 9,
   "metadata": {},
   "outputs": [
    {
     "name": "stdout",
     "output_type": "stream",
     "text": [
      "20019\n"
     ]
    }
   ],
   "source": [
    "def solution(N):\n",
    "\n",
    "    M = str(N)\n",
    "    t = len(M) - 1\n",
    "\n",
    "    trailing_zero = list()\n",
    "    first_nine = list()\n",
    "\n",
    "    while t >= 0:\n",
    "        if int(M[t]) != 0:\n",
    "            break\n",
    "        trailing_zero.append(M[t])\n",
    "        t -= 1\n",
    "    \n",
    "    if t < 0:\n",
    "        print('No Solution')\n",
    "        return\n",
    "    \n",
    "    first_not_zero = int(M[t])\n",
    "    t -= 1\n",
    "    while t >= 0:\n",
    "        if int(M[t]) != 9:\n",
    "            break\n",
    "        first_nine.append(M[t])\n",
    "        t -= 1\n",
    "\n",
    "    if t < 0:\n",
    "        rm = '1'\n",
    "    else:\n",
    "        add_digit = int(M[t]) + 1\n",
    "        rm = ''.join(M[:t]) + str(add_digit)\n",
    "\n",
    "    print(int(rm + ''.join(trailing_zero) + str(first_not_zero - 1) + ''.join(first_nine)))\n",
    "    \n",
    "solution(19200) "
   ]
  },
  {
   "attachments": {},
   "cell_type": "markdown",
   "metadata": {},
   "source": [
    "## 8. Augmented Euclidean Distance"
   ]
  },
  {
   "cell_type": "code",
   "execution_count": 10,
   "metadata": {},
   "outputs": [
    {
     "data": {
      "text/plain": [
       "1.4142135623730951"
      ]
     },
     "execution_count": 10,
     "metadata": {},
     "output_type": "execute_result"
    }
   ],
   "source": [
    "import numpy as np\n",
    "\n",
    "def augmented_euclidean_dist(a, b):\n",
    "    # Write your code here.\n",
    "    # Remember to return the right object.\n",
    "    idx_drop = []\n",
    "    for i, ele in enumerate(a):\n",
    "        if ele == -999:\n",
    "            idx_drop.append(i)\n",
    "    for j, ele in enumerate(b):\n",
    "        if ele == -999:\n",
    "            idx_drop.append(j)\n",
    "    \n",
    "    idx_drop = sorted(set(idx_drop))\n",
    "\n",
    "    new_a = []\n",
    "    new_b = []\n",
    "    for i, ele in enumerate(a):\n",
    "        if i not in idx_drop:\n",
    "            new_a.append(ele)\n",
    "    for j, ele in enumerate(b):\n",
    "        if j not in idx_drop:\n",
    "            new_b.append(ele)\n",
    "    \n",
    "    if len(new_a) <= 1 or len(new_b) <= 1:\n",
    "        print(float('inf'))\n",
    "        return\n",
    "    else:\n",
    "        dist = np.linalg.norm(np.array(new_a) - np.array(new_b))\n",
    "        return dist\n",
    "a = np.array([1, 2, 3.5, 4.24])\n",
    "b = np.array([2, 1, -999, -999])\n",
    "augmented_euclidean_dist(a, b)"
   ]
  },
  {
   "attachments": {},
   "cell_type": "markdown",
   "metadata": {},
   "source": [
    "## 9. 3Sum\n",
    "\n",
    "Given an integer array nums, return all the triplets $[nums[i], nums[j], nums[k]]$ such that $i != j$, $i != k$, and $j != k$, and $nums[i] + nums[j] + nums[k] == 0$.\n",
    "\n",
    "Notice that the solution set must not contain duplicate triplets."
   ]
  },
  {
   "cell_type": "code",
   "execution_count": 11,
   "metadata": {},
   "outputs": [
    {
     "data": {
      "text/plain": [
       "[[-4, 0, 4],\n",
       " [-3, 0, 3],\n",
       " [-2, 0, 2],\n",
       " (0, 0, 0),\n",
       " [-2, -1, 3],\n",
       " [-3, -1, 4],\n",
       " [-4, -1, 5],\n",
       " [-3, -2, 5]]"
      ]
     },
     "execution_count": 11,
     "metadata": {},
     "output_type": "execute_result"
    }
   ],
   "source": [
    "def threeSum(nums):\n",
    "    \n",
    "    res = []\n",
    "        \n",
    "    # 1. Split numbers to three lists: negative numbers, positive numbers, and zeros\n",
    "    n, p, z = [], [], []\n",
    "    for num in nums:\n",
    "        if num > 0:\n",
    "            p.append(num)\n",
    "        elif num < 0:\n",
    "            n.append(num)\n",
    "        else:\n",
    "            z.append(num)\n",
    "\n",
    "    # 2. If there is at least 1 zero in the list, add all cases where -num exists in N and num exists in P\n",
    "    N_set = set(n)\n",
    "    P_set = set(p)\n",
    "    if z:\n",
    "        for num in N_set:\n",
    "            if -1*num in P_set:\n",
    "                res.append([num, 0, -1*num])\n",
    "    \n",
    "    # 3. If there are at least 3 zeros in the list, then include (0, 0, 0)\n",
    "    if len(z) >= 3:\n",
    "        res.append((0, 0, 0))\n",
    "\n",
    "    # 4. For all pairs of negative numbers (-3, -1), check their complement (4)\n",
    "    for i in range(len(n)):\n",
    "        for j in range(i+1, len(n)):\n",
    "            target = -1*(n[i]+n[j])\n",
    "            if target in p:\n",
    "                res.append(sorted([n[i], n[j], target]))\n",
    "    \n",
    "    # 5. For all pairs of positive numbers (2, 4), check their complement (-6)\n",
    "    for i in range(len(p)):\n",
    "        for j in range(i+1, len(p)):\n",
    "            target = -1*(p[i]+p[j])\n",
    "            if target in n:\n",
    "                res.append(sorted([p[i], p[j], target]))\n",
    "\n",
    "    return res    \t\n",
    "\n",
    "threeSum([-1, 0, 0, 0, 0, -2, 3, 4, 2, 5, -3, -4])"
   ]
  },
  {
   "attachments": {},
   "cell_type": "markdown",
   "metadata": {},
   "source": [
    "## 10. Reverse Vowels of a String"
   ]
  },
  {
   "cell_type": "code",
   "execution_count": 12,
   "metadata": {},
   "outputs": [
    {
     "data": {
      "text/plain": [
       "'holloworldpythen'"
      ]
     },
     "execution_count": 12,
     "metadata": {},
     "output_type": "execute_result"
    }
   ],
   "source": [
    "def reverseVowels(s):\n",
    "    vw = 'aeiouAEIOU'\n",
    "    i, j = 0, len(s)-1\n",
    "    s = list(s)\n",
    "    while i < j:\n",
    "        if s[i] not in vw:\n",
    "            i += 1\n",
    "            continue\n",
    "        if s[j] not in vw:\n",
    "            j -= 1\n",
    "            continue\n",
    "        s[i], s[j] = s[j], s[i]\n",
    "        i += 1\n",
    "        j -= 1\n",
    "        \n",
    "    return ''.join(s)\n",
    "reverseVowels('helloworldpython')"
   ]
  },
  {
   "attachments": {},
   "cell_type": "markdown",
   "metadata": {},
   "source": [
    "## 11. Strobogrammatic Number"
   ]
  },
  {
   "cell_type": "code",
   "execution_count": 13,
   "metadata": {},
   "outputs": [
    {
     "data": {
      "text/plain": [
       "True"
      ]
     },
     "execution_count": 13,
     "metadata": {},
     "output_type": "execute_result"
    }
   ],
   "source": [
    "def Strobogrammatic(num):\n",
    "    dic = {'0': '0', '1': '1', '6': '9', '8': '8', '9': '6'}\n",
    "    l, r = 0, len(num) - 1\n",
    "\n",
    "    while l <= r:\n",
    "        if num[l] in dic and dic[num[l]] == num[r]:\n",
    "            l += 1\n",
    "            r -= 1\n",
    "        else:\n",
    "            return False\n",
    "    return True\n",
    "Strobogrammatic('9966') \n",
    "# 8008 1001 9006 6009 8888 1881 9886 6889 8118 1111 9116 6119 8968 1961 9966 6969 8698 1691 9696 6699"
   ]
  },
  {
   "attachments": {},
   "cell_type": "markdown",
   "metadata": {},
   "source": [
    "## 12. Shortest Word Distance\n",
    "Given an array of strings wordsDict and two different strings that already exist in the array word1 and word2, return the shortest distance between these two words in the list.\n",
    "\n",
    "__Input__: wordsDict = [\"practice\", \"makes\", \"perfect\", \"coding\", \"makes\"], word1 = \"makes\", word2 = \"coding\"\n",
    "\n",
    "__Output__: 1"
   ]
  },
  {
   "cell_type": "code",
   "execution_count": 14,
   "metadata": {},
   "outputs": [
    {
     "data": {
      "text/plain": [
       "3"
      ]
     },
     "execution_count": 14,
     "metadata": {},
     "output_type": "execute_result"
    }
   ],
   "source": [
    "def shortestDistance(wordsDict, word1, word2):\n",
    "    min_dist = float(\"inf\")\n",
    "    word1_idx = []\n",
    "    word2_idx = []\n",
    "\n",
    "    for i, word in enumerate(wordsDict):\n",
    "        if word == word1:\n",
    "            word1_idx.append(i)\n",
    "        if word == word2:\n",
    "            word2_idx.append(i)\n",
    "    \n",
    "    for i in word1_idx:\n",
    "        for j in word2_idx:\n",
    "            min_dist = min(min_dist, abs(i-j))\n",
    "    \n",
    "    return min_dist\n",
    "shortestDistance(wordsDict = [\"practice\", \"makes\", \"perfect\", \"coding\", \"makes\"], word1 = \"practice\", word2 = \"coding\")"
   ]
  },
  {
   "attachments": {},
   "cell_type": "markdown",
   "metadata": {},
   "source": [
    "## 13. Sum of All Subtrings"
   ]
  },
  {
   "cell_type": "code",
   "execution_count": 15,
   "metadata": {},
   "outputs": [
    {
     "data": {
      "text/plain": [
       "16755"
      ]
     },
     "execution_count": 15,
     "metadata": {},
     "output_type": "execute_result"
    }
   ],
   "source": [
    "def sumOfSubstrings(num):\n",
    "    curr = 0\n",
    "    prev = int(num[0])\n",
    "    sum_subString = prev\n",
    "\n",
    "    for i in range(1, len(num)):\n",
    "        curr = (i + 1) * int(num[i]) + 10 * prev\n",
    "        sum_subString += curr\n",
    "        prev = curr\n",
    "    return sum_subString\n",
    "sumOfSubstrings('12345')"
   ]
  },
  {
   "attachments": {},
   "cell_type": "markdown",
   "metadata": {},
   "source": [
    "## 14. Count number of bits to be flipped to convert A to B\n",
    "\n",
    "The counts of bit that need to be flipped can be found by matching all the bits in both the integers one by one. If the bit under consideration differs then increment the counts of flips."
   ]
  },
  {
   "cell_type": "code",
   "execution_count": 16,
   "metadata": {},
   "outputs": [
    {
     "name": "stdout",
     "output_type": "stream",
     "text": [
      "3\n",
      "3\n",
      "1\n"
     ]
    }
   ],
   "source": [
    "def countFlips(a, b):\n",
    "    # Initially the flips is equal to 0\n",
    "    a = int(a)\n",
    "    b = int(b)\n",
    "    n_flips = 0\n",
    "\n",
    "    # Now & each bit of a and b with 1, store in d_a and d_b\n",
    "    while (a > 0 or b > 0):\n",
    "        d_a = (a & 1)\n",
    "        d_b = (b & 1)\n",
    "        # If d_a is not equal to d_b, flip the bit\n",
    "        if d_a != d_b:\n",
    "            n_flips += 1\n",
    "        # Right shifting a and b\n",
    "        a >>= 1\n",
    "        b >>= 1\n",
    "    return n_flips\n",
    "\n",
    "test_list = [[10, 1], [2, 5], [1, 0]]\n",
    "for i in range(len(test_list)):\n",
    "    print(countFlips(test_list[i][0], test_list[i][1]))"
   ]
  },
  {
   "attachments": {},
   "cell_type": "markdown",
   "metadata": {},
   "source": [
    "## 15. String Compression\n",
    "Count charater of a string and add the count after the charater."
   ]
  },
  {
   "cell_type": "code",
   "execution_count": 17,
   "metadata": {},
   "outputs": [
    {
     "data": {
      "text/plain": [
       "'a2b2d1e1'"
      ]
     },
     "execution_count": 17,
     "metadata": {},
     "output_type": "execute_result"
    }
   ],
   "source": [
    "def StringCompression(s):\n",
    "    r = \"\"\n",
    "    n = len(s)\n",
    "\n",
    "    # First, check for length 0\n",
    "    if n == 0:\n",
    "        return \"\"\n",
    "    \n",
    "    # Check of length 1\n",
    "    if n == 1:\n",
    "        return s + \"1\"\n",
    "    \n",
    "    # Initialize the value of count and index count\n",
    "    cnt = 1 \n",
    "    i = 1\n",
    "    \n",
    "    while i < n:\n",
    "        # Check to see if same as previous character\n",
    "        if s[i] == s[i-1]:\n",
    "            # Add to cnt if same as previous\n",
    "            cnt += 1\n",
    "        else:\n",
    "            # Store previous data\n",
    "            r = r + s[i-1] + str(cnt)\n",
    "            cnt = 1\n",
    "        # Now add to index count to terminate the while loop\n",
    "        i += 1\n",
    "\n",
    "    r = r + s[i-1] + str(cnt)\n",
    "    return r\n",
    "\n",
    "StringCompression(s=\"aabbde\")"
   ]
  },
  {
   "attachments": {},
   "cell_type": "markdown",
   "metadata": {},
   "source": [
    "## 16. Palindrome Number"
   ]
  },
  {
   "cell_type": "code",
   "execution_count": 18,
   "metadata": {},
   "outputs": [
    {
     "data": {
      "text/plain": [
       "True"
      ]
     },
     "execution_count": 18,
     "metadata": {},
     "output_type": "execute_result"
    }
   ],
   "source": [
    "def IsPalindromeNumber(x):\n",
    "\n",
    "    if x < 0:\n",
    "        return False\n",
    "    else:\n",
    "        x = str(x)\n",
    "        if x == x[::-1]:\n",
    "            return True\n",
    "        else: \n",
    "            return False\n",
    "IsPalindromeNumber(1221)"
   ]
  },
  {
   "cell_type": "markdown",
   "metadata": {},
   "source": [
    "## 17. Palindrome String\n",
    "A phrase is a __palindrome__ if, after converting all uppercase letters into lowercase letters and removing all non-alphanumeric characters, it reads the same forward and backward. Alphanumeric characters include letters and numbers.\n",
    "\n",
    "Given a string ``s``, return ``True`` if it is a __palindrome__, or ``False`` otherwise."
   ]
  },
  {
   "cell_type": "code",
   "execution_count": 19,
   "metadata": {},
   "outputs": [
    {
     "data": {
      "text/plain": [
       "True"
      ]
     },
     "execution_count": 19,
     "metadata": {},
     "output_type": "execute_result"
    }
   ],
   "source": [
    "def IsPalindromeString(s):\n",
    "    \n",
    "    # Keep only numbers and alphabet\n",
    "    import re\n",
    "    s = re.sub(r\"[^0-9a-zA-Z]\", \"\", s)\n",
    "\n",
    "    left = 0\n",
    "    right = len(s) - 1\n",
    "    while left < right:\n",
    "        if s[left] != s[right]:\n",
    "            return False\n",
    "        left += 1\n",
    "        right -=1 \n",
    "    return True\n",
    "IsPalindromeString(\"a?bhba^^&\")"
   ]
  },
  {
   "cell_type": "markdown",
   "metadata": {},
   "source": [
    "## 18. Valid Parenthesis\n",
    "\n",
    "Given a string s containing just the characters ``'('``, ``')'``, ``'{'``, ``'}'``, ``'['`` and ``']'``, determine if the input string is valid.\n",
    "\n",
    "An input string is valid if:\n",
    "- Open brackets must be closed by the same type of brackets.\n",
    "- Open brackets must be closed in the correct order.\n",
    "- Every close bracket has a corresponding open bracket of the same type."
   ]
  },
  {
   "cell_type": "code",
   "execution_count": 20,
   "metadata": {},
   "outputs": [
    {
     "data": {
      "text/plain": [
       "False"
      ]
     },
     "execution_count": 20,
     "metadata": {},
     "output_type": "execute_result"
    }
   ],
   "source": [
    "def IsValidParenthesis(s):\n",
    "    stack = []\n",
    "    for char in s:\n",
    "        if char in \"({[\":\n",
    "            stack.append(char)\n",
    "        else:\n",
    "            if len(stack) == 0:\n",
    "                return False\n",
    "            if char == \")\" and stack[-1] == \"(\":\n",
    "                stack.pop()\n",
    "            elif char == \"]\" and stack[-1] == \"[\":\n",
    "                stack.pop()\n",
    "            elif char == \"}\" and stack[-1] == \"{\":\n",
    "                stack.pop()\n",
    "            else:\n",
    "                return False\n",
    "    return len(stack) == 0\n",
    "IsValidParenthesis('({]})')"
   ]
  },
  {
   "cell_type": "markdown",
   "metadata": {},
   "source": [
    "## 19. Maixmum Profits\n",
    "You are given an array ``prices`` where ``prices[i]`` is the price of a given stock on the ``ith`` day.\n",
    "\n",
    "You want to maximize your profit by choosing a single day to buy one stock and choosing a different day in the future to sell that stock.\n",
    "\n",
    "Return the maximum profit you can achieve from this transaction. If you cannot achieve any profit, return 0.\n",
    "\n",
    "The intuition behind this code is to \n",
    "- keep track of the minimum price seen so far\n",
    "- keep track of the maximum profit that can be made by buying at the minimum price and selling at a higher price in the future"
   ]
  },
  {
   "cell_type": "code",
   "execution_count": 21,
   "metadata": {},
   "outputs": [
    {
     "data": {
      "text/plain": [
       "7"
      ]
     },
     "execution_count": 21,
     "metadata": {},
     "output_type": "execute_result"
    }
   ],
   "source": [
    "def MaxProfit(prices):\n",
    "    # Initialization\n",
    "    min_price = float(\"inf\")\n",
    "    max_profit = 0\n",
    "\n",
    "    # Begin loop\n",
    "    for p in prices:\n",
    "        if p < min_price:\n",
    "            min_price = p\n",
    "        elif p - min_price > max_profit:\n",
    "            max_profit = p - min_price\n",
    "    return max_profit\n",
    "\n",
    "MaxProfit([2, 3, 3, 5, 9, 4, 1, 6])\n"
   ]
  },
  {
   "cell_type": "markdown",
   "metadata": {},
   "source": [
    "## 20. Roman to Integer\n",
    "\n",
    "Roman numerals are represented by seven different symbols: ``I = 1``, ``V = 5``, ``X = 10``, ``L = 50``, ``C = 100``, ``D = 500`` and ``M = 1000``."
   ]
  },
  {
   "cell_type": "code",
   "execution_count": 22,
   "metadata": {},
   "outputs": [
    {
     "data": {
      "text/plain": [
       "1994"
      ]
     },
     "execution_count": 22,
     "metadata": {},
     "output_type": "execute_result"
    }
   ],
   "source": [
    "def RomanToInt(s):\n",
    "    rti_dict = {\n",
    "        \"I\": 1,\n",
    "        \"V\": 5,\n",
    "        \"X\": 10,\n",
    "        \"L\": 50,\n",
    "        \"C\": 100,\n",
    "        \"D\": 500,\n",
    "        \"M\": 1000\n",
    "    }\n",
    "\n",
    "    res = 0\n",
    "    for i in range(len(s)):\n",
    "        if i < len(s) - 1 and rti_dict[s[i]] < rti_dict[s[i+1]]:\n",
    "            res -= rti_dict[s[i]]\n",
    "        else:\n",
    "            res += rti_dict[s[i]]\n",
    "    return res\n",
    "\n",
    "RomanToInt(\"MCMXCIV\")"
   ]
  },
  {
   "cell_type": "markdown",
   "metadata": {},
   "source": [
    "## 21. Contains Duplicate\n",
    "\n",
    "Given an integer array ``nums``, return ``true`` if any value appears at least twice in the array, and return ``false`` if every element is distinct."
   ]
  },
  {
   "cell_type": "code",
   "execution_count": 23,
   "metadata": {},
   "outputs": [
    {
     "data": {
      "text/plain": [
       "True"
      ]
     },
     "execution_count": 23,
     "metadata": {},
     "output_type": "execute_result"
    }
   ],
   "source": [
    "def containDuplicate(nums):\n",
    "    if len(set(nums)) < len(nums):\n",
    "        return True\n",
    "    else:\n",
    "        return False\n",
    "containDuplicate([-1, 2, 3, 0, 1, 2])"
   ]
  },
  {
   "cell_type": "markdown",
   "metadata": {},
   "source": [
    "## 22. Valid Aangram\n",
    "Given two strings ``s`` and ``t``, return ``True`` if ``t`` is an anagram of ``s``, and False otherwise.\n",
    "\n",
    "An Anagram is a word or phrase formed by rearranging the letters of a different word or phrase, typically using all the original letters exactly once."
   ]
  },
  {
   "cell_type": "code",
   "execution_count": 24,
   "metadata": {},
   "outputs": [
    {
     "data": {
      "text/plain": [
       "False"
      ]
     },
     "execution_count": 24,
     "metadata": {},
     "output_type": "execute_result"
    }
   ],
   "source": [
    "from collections import Counter\n",
    "def isAnagram(s, t):\n",
    "    if len(s) != len(t):\n",
    "        return False\n",
    "    \n",
    "    dict_s = Counter(s)\n",
    "    dict_t = Counter(t)\n",
    "    for i in dict_s:\n",
    "        if i not in dict_t or dict_s[i] != dict_t[i]:\n",
    "            return False\n",
    "    \n",
    "    return True\n",
    "\n",
    "isAnagram(s=\"anagram\", t=\"nagaram\")\n",
    "isAnagram(s=\"rat\", t=\"car\")"
   ]
  },
  {
   "cell_type": "markdown",
   "metadata": {},
   "source": [
    "## 23. Remove Duplicates from Sorted Array\n",
    "\n",
    "Given an integer array ``nums`` sorted in non-decreasing order, remove the duplicates in-place such that each unique element appears only once. The relative order of the elements should be kept the same. Then return the number of unique elements in ``nums``."
   ]
  },
  {
   "cell_type": "code",
   "execution_count": 25,
   "metadata": {},
   "outputs": [
    {
     "data": {
      "text/plain": [
       "(3, [1, 1, 2, 3])"
      ]
     },
     "execution_count": 25,
     "metadata": {},
     "output_type": "execute_result"
    }
   ],
   "source": [
    "def removeDuplicates(nums):\n",
    "    nums = sorted(nums)\n",
    "    j = 1\n",
    "    for i in range(1, len(nums)):\n",
    "        if nums[i] != nums[j]:\n",
    "            j += 1\n",
    "    return j, nums\n",
    "removeDuplicates([2, 1, 1, 3])"
   ]
  },
  {
   "cell_type": "markdown",
   "metadata": {},
   "source": [
    "## 24. Remove Elements\n",
    "\n",
    "Given an integer array ``nums`` and an integer ``val``, remove all occurrences of ``val`` in ``nums`` in-place. The order of the elements may be changed. Then return the number of elements in ``nums`` which are not equal to ``val``.\n",
    "\n",
    "Consider the number of elements in ``nums`` which are not equal to ``val`` be ``k``, to get accepted, you need to do the following things:\n",
    "\n",
    "- Change the array ``nums`` such that the first ``k`` elements of ``nums`` contain the elements which are not equal to ``val``. The remaining elements of ``nums`` are not important as well as the size of ``nums``.\n",
    "- Return ``k``."
   ]
  },
  {
   "cell_type": "code",
   "execution_count": 26,
   "metadata": {},
   "outputs": [
    {
     "data": {
      "text/plain": [
       "3"
      ]
     },
     "execution_count": 26,
     "metadata": {},
     "output_type": "execute_result"
    }
   ],
   "source": [
    "def removeElement(nums, val):\n",
    "    idx = 0\n",
    "    for ele in nums:\n",
    "        if ele != val:\n",
    "            nums[idx] = ele\n",
    "            idx += 1\n",
    "    return idx\n",
    "removeElement([1, 2, 3, 4, 1], 1)"
   ]
  },
  {
   "cell_type": "markdown",
   "metadata": {},
   "source": [
    "## 25. Reverse Integer\n",
    "Given a signed 32-bit integer ``x``, return ``x`` with its digits reversed. If reversing ``x`` causes the value to go outside the signed 32-bit integer range $[-2^{31}, 2^{31} - 1]$, then return ``0``."
   ]
  },
  {
   "cell_type": "code",
   "execution_count": 27,
   "metadata": {},
   "outputs": [
    {
     "data": {
      "text/plain": [
       "-1463847412"
      ]
     },
     "execution_count": 27,
     "metadata": {},
     "output_type": "execute_result"
    }
   ],
   "source": [
    "def reverseInteger(x):\n",
    "    rev = int(str(abs(x))[::-1])\n",
    "    if rev.bit_length() < 32:\n",
    "        return (-rev if x < 0 else rev)\n",
    "    else:\n",
    "        return 0\n",
    "reverseInteger(-2147483641)"
   ]
  },
  {
   "cell_type": "markdown",
   "metadata": {},
   "source": [
    "## 26. Buddy Strings\n",
    "\n",
    "Given two strings ``s`` and ``goal``, return ``True`` if you can swap two letters in ``s`` so the result is equal to ``goal``, otherwise, return ``False``.\n",
    "\n",
    "Swapping letters is defined as taking two indices ``i`` and ``j`` (0-indexed) such that ``i != j`` and swapping the characters at ``s[i]`` and ``s[j]``."
   ]
  },
  {
   "cell_type": "code",
   "execution_count": 28,
   "metadata": {},
   "outputs": [
    {
     "data": {
      "text/plain": [
       "True"
      ]
     },
     "execution_count": 28,
     "metadata": {},
     "output_type": "execute_result"
    }
   ],
   "source": [
    "def buddyStrings(s, goal):\n",
    "    \n",
    "    # If the two strings are of different length, return False\n",
    "    if len(s) != len(goal):\n",
    "        return False\n",
    "    # If the two strings are of the same length and have same characters\n",
    "    if  s == goal:\n",
    "        temp = set(s)\n",
    "        return len(temp) < len(goal)\n",
    "    \n",
    "    i = 0\n",
    "    j = len(s) - 1\n",
    "    while i < j and s[i] == goal[i]:\n",
    "        i += 1\n",
    "    while j >= 0 and s[j] == goal[j]:\n",
    "        j -= 1\n",
    "    if i < j:\n",
    "        s_list = list(s)\n",
    "        s_list[i], s_list[j] = s_list[j], s_list[i]\n",
    "        s = \"\".join(s_list)\n",
    "    \n",
    "    return s == goal\n",
    "\n",
    "buddyStrings(\"abcd\", \"cbad\")"
   ]
  },
  {
   "cell_type": "markdown",
   "metadata": {},
   "source": [
    "## 27. Find Smallest Letter Greater than Target\n",
    "\n",
    "You are given an array of characters ``letters`` that is sorted in __non-decreasing order__, and a character ``target``. There are __at least two different__ characters in ``letters``.\n",
    "\n",
    "Return the smallest character in ``letters`` that is lexicographically greater than ``target``. If such a character does not exist, return the first character in ``letters``."
   ]
  },
  {
   "cell_type": "code",
   "execution_count": 29,
   "metadata": {},
   "outputs": [
    {
     "data": {
      "text/plain": [
       "'o'"
      ]
     },
     "execution_count": 29,
     "metadata": {},
     "output_type": "execute_result"
    }
   ],
   "source": [
    "def nextGreatestLetter(letters, target):\n",
    "    letters = list(letters)\n",
    "    if letters[0] > target or letters[-1] <= target:\n",
    "        return letters[0]\n",
    "    \n",
    "    l, r = 0, len(letters)\n",
    "    while l < r:\n",
    "        mid = l + (r-l)//2\n",
    "        if letters[mid] > target:\n",
    "            r = mid\n",
    "        else:\n",
    "            l = mid + 1\n",
    "    return letters[l % len(letters)]\n",
    "\n",
    "nextGreatestLetter(\"abcfgopxyz\", 'm')"
   ]
  },
  {
   "cell_type": "markdown",
   "metadata": {},
   "source": [
    "## 28. Find the Index of the First Occurence in a String\n",
    "\n",
    "Given two strings ``needle`` and ``haystack``, return the index of the first occurrence of ``needle`` in ``haystack``, or ``-1`` if ``needle`` is not part of ``haystack``."
   ]
  },
  {
   "cell_type": "code",
   "execution_count": 30,
   "metadata": {},
   "outputs": [
    {
     "data": {
      "text/plain": [
       "-1"
      ]
     },
     "execution_count": 30,
     "metadata": {},
     "output_type": "execute_result"
    }
   ],
   "source": [
    "def strStr(haystack, needle):\n",
    "\n",
    "    m = len(haystack)\n",
    "    n = len(needle)\n",
    "\n",
    "    if n == 0:\n",
    "        return -1 # Empty needle\n",
    "    \n",
    "    for i in range(m-n+1):\n",
    "        found = True\n",
    "        for j in range(n):\n",
    "            if haystack[i+j] != needle[j]:\n",
    "                found = False\n",
    "                break\n",
    "        if found == True:\n",
    "            return i\n",
    "    return -1\n",
    "\n",
    "strStr(\"leetcode\", \"leeto\")"
   ]
  },
  {
   "cell_type": "markdown",
   "metadata": {},
   "source": [
    "## 29. Length of Last Word\n",
    "Given a string ``s`` consisting of words and spaces, return the length of the last word in the string.\n",
    "\n",
    "A word is a maximal substring consisting of non-space characters only."
   ]
  },
  {
   "cell_type": "code",
   "execution_count": 31,
   "metadata": {},
   "outputs": [
    {
     "data": {
      "text/plain": [
       "4"
      ]
     },
     "execution_count": 31,
     "metadata": {},
     "output_type": "execute_result"
    }
   ],
   "source": [
    "def lengthOfLastWord(s):\n",
    "    count = 0\n",
    "    space = False\n",
    "\n",
    "    for i in range(len(s)):\n",
    "        if s[i] == \" \":\n",
    "            space = True\n",
    "        elif s[i] != \" \" and space == True:\n",
    "            count = 1\n",
    "            space = False\n",
    "        else:\n",
    "            count += 1\n",
    "    return count\n",
    "\n",
    "s =  \"   fly me   to   the moon  \"\n",
    "lengthOfLastWord(s)"
   ]
  },
  {
   "cell_type": "markdown",
   "metadata": {},
   "source": [
    "## 30. Plus One\n",
    "You are given a __large integer__ represented as an integer array ``digits``, where each ``digits[i]`` is the ``ith`` digit of the integer. The digits are ordered from most significant to least significant in left-to-right order. The large integer does not contain any leading 0's.\n",
    "\n",
    "Increment the large integer by one and return the resulting array of digits."
   ]
  },
  {
   "cell_type": "code",
   "execution_count": 32,
   "metadata": {},
   "outputs": [
    {
     "data": {
      "text/plain": [
       "[1, 2, 4, 0]"
      ]
     },
     "execution_count": 32,
     "metadata": {},
     "output_type": "execute_result"
    }
   ],
   "source": [
    "def plusOne(digits):\n",
    "    s = \"\"\n",
    "    for i in digits:\n",
    "        s += str(i)\n",
    "    \n",
    "    num = int(s) + 1\n",
    "    return [int(d) for d in str(num)]\n",
    "\n",
    "plusOne([1, 2, 3, 9])"
   ]
  },
  {
   "cell_type": "markdown",
   "metadata": {},
   "source": [
    "## 31. Sqrt(x)\n",
    "Given a non-negative integer ``x``, return the square root of ``x`` rounded down to the nearest integer. The returned integer should be non-negative as well.\n",
    "\n",
    "You must not use any built-in exponent function or operator.\n"
   ]
  },
  {
   "cell_type": "code",
   "execution_count": 33,
   "metadata": {},
   "outputs": [
    {
     "data": {
      "text/plain": [
       "9"
      ]
     },
     "execution_count": 33,
     "metadata": {},
     "output_type": "execute_result"
    }
   ],
   "source": [
    "def mySqrt(x):\n",
    "    if x == 0 or x == 1:\n",
    "        return x\n",
    "    \n",
    "    start = 1\n",
    "    end = x\n",
    "    while start <= end:\n",
    "        mid = start + (end- start)//2\n",
    "        if mid * mid == x:\n",
    "            return mid\n",
    "        elif mid * mid > x:\n",
    "            end = mid - 1\n",
    "        else:\n",
    "            start = mid + 1\n",
    "    return end\n",
    "mySqrt(99)"
   ]
  }
 ],
 "metadata": {
  "interpreter": {
   "hash": "e774977668b7c0ae8309835a5187aa7fbf7669e7d0bb59755bc63e573643edcd"
  },
  "kernelspec": {
   "display_name": "Python 3.7.8 64-bit",
   "language": "python",
   "name": "python3"
  },
  "language_info": {
   "codemirror_mode": {
    "name": "ipython",
    "version": 3
   },
   "file_extension": ".py",
   "mimetype": "text/x-python",
   "name": "python",
   "nbconvert_exporter": "python",
   "pygments_lexer": "ipython3",
   "version": "3.10.11"
  },
  "orig_nbformat": 2
 },
 "nbformat": 4,
 "nbformat_minor": 2
}
